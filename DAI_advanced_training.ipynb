{
 "cells": [
  {
   "cell_type": "markdown",
   "metadata": {},
   "source": [
    "# Python Client for Driverless AI\n",
    "\n",
    "Static intuitive Python API.\n",
    "\n",
    "Documentation:\n",
    "https://docs.h2o.ai/driverless-ai/pyclient/docs/html/index.html"
   ]
  },
  {
   "cell_type": "markdown",
   "metadata": {},
   "source": [
    "# DriverlessAI Python Client - demo and training"
   ]
  },
  {
   "cell_type": "markdown",
   "metadata": {},
   "source": [
    "## Python environment set up\n",
    "\n",
    "It is recommended to use a virtual environment to run this notebook. The following steps will create a virtual environment and install the required packages.\n",
    "\n",
    "To create a virtual environment, run the following command in the terminal:\n",
    "\n",
    "```bash\n",
    "python3.8 -m venv dai_verizon_training\n",
    "```\n",
    "To activate the virtual environment, run the following command in the terminal:\n",
    "```bash\n",
    "source dai_verizon_training/bin/activate\n",
    "```\n",
    "\n",
    "Create requirements.txt file with the following packages:\n",
    "```bash\n",
    "pandas\n",
    "driverlessai\n",
    "matplotlib\n",
    "scipy\n",
    "scikit-learn\n",
    "datatable\n",
    "qtoml\n",
    "ipykernel\n",
    "```\n",
    "\n",
    "To install the required packages, run the following command in the terminal:\n",
    "```bash\n",
    "pip install -r requirements.txt\n",
    "```\n",
    "\n",
    "To use with VS Code Jupyter Notebook kernel, run the following command in the terminal:\n",
    "```bash\n",
    "python -m ipykernel install --name=dai_verizon_training\"\n",
    "```\n",
    "\n",
    "**Note**  \n",
    "If you prefer to use Jupyter Notebook, you can install the required packages using the following command:\n",
    "```bash\n",
    "pip install notebook\n",
    "```\n",
    "\n",
    "To deactivate the virtual environment, run the following command in the terminal:\n",
    "```bash\n",
    "deactivate\n",
    "```\n",
    "\n"
   ]
  },
  {
   "cell_type": "code",
   "execution_count": 1,
   "metadata": {},
   "outputs": [
    {
     "data": {
      "text/html": [
       "<style>.container { width:80% !important; }</style>"
      ],
      "text/plain": [
       "<IPython.core.display.HTML object>"
      ]
     },
     "metadata": {},
     "output_type": "display_data"
    },
    {
     "data": {
      "text/html": [
       "<style type='text/css'>\n",
       ".datatable table.frame { margin-bottom: 0; }\n",
       ".datatable table.frame thead { border-bottom: none; }\n",
       ".datatable table.frame tr.coltypes td {  color: #FFFFFF;  line-height: 6px;  padding: 0 0.5em;}\n",
       ".datatable .bool    { background: #DDDD99; }\n",
       ".datatable .object  { background: #565656; }\n",
       ".datatable .int     { background: #5D9E5D; }\n",
       ".datatable .float   { background: #4040CC; }\n",
       ".datatable .str     { background: #CC4040; }\n",
       ".datatable .time    { background: #40CC40; }\n",
       ".datatable .row_index {  background: var(--jp-border-color3);  border-right: 1px solid var(--jp-border-color0);  color: var(--jp-ui-font-color3);  font-size: 9px;}\n",
       ".datatable .frame tbody td { text-align: left; }\n",
       ".datatable .frame tr.coltypes .row_index {  background: var(--jp-border-color0);}\n",
       ".datatable th:nth-child(2) { padding-left: 12px; }\n",
       ".datatable .hellipsis {  color: var(--jp-cell-editor-border-color);}\n",
       ".datatable .vellipsis {  background: var(--jp-layout-color0);  color: var(--jp-cell-editor-border-color);}\n",
       ".datatable .na {  color: var(--jp-cell-editor-border-color);  font-size: 80%;}\n",
       ".datatable .sp {  opacity: 0.25;}\n",
       ".datatable .footer { font-size: 9px; }\n",
       ".datatable .frame_dimensions {  background: var(--jp-border-color3);  border-top: 1px solid var(--jp-border-color0);  color: var(--jp-ui-font-color3);  display: inline-block;  opacity: 0.6;  padding: 1px 10px 1px 5px;}\n",
       "</style>\n"
      ],
      "text/plain": [
       "<IPython.core.display.HTML object>"
      ]
     },
     "metadata": {},
     "output_type": "display_data"
    }
   ],
   "source": [
    "import driverlessai\n",
    "import pandas as pd\n",
    "import json\n",
    "from IPython.display import display, HTML\n",
    "display(HTML(\"<style>.container { width:80% !important; }</style>\"))\n",
    "\n",
    "#import h2o\n",
    "import datatable as dt\n",
    "from zipfile import ZIP_DEFLATED, ZipFile\n",
    "import qtoml\n",
    "from typing import Dict\n",
    "import os\n",
    "import uuid\n",
    "import pprint"
   ]
  },
  {
   "cell_type": "code",
   "execution_count": 2,
   "metadata": {},
   "outputs": [
    {
     "data": {
      "text/plain": [
       "'1.10.5.post1'"
      ]
     },
     "execution_count": 2,
     "metadata": {},
     "output_type": "execute_result"
    }
   ],
   "source": [
    "driverlessai.__version__"
   ]
  },
  {
   "cell_type": "markdown",
   "metadata": {},
   "source": [
    "## Connect to stand along DAI Instance\n",
    "\n",
    "Replace value of the variable `dai_url` with the URL of your DAI instance as provided in the Aquarium Lab.\n",
    "![Alt text](Aquarium_Lab_selection.png)\n",
    "\n",
    "![Alt text](Aquarium_Lab_DAI_training.png)\n"
   ]
  },
  {
   "cell_type": "code",
   "execution_count": 3,
   "metadata": {},
   "outputs": [],
   "source": [
    "import warnings\n",
    "warnings.filterwarnings('ignore')\n",
    "\n",
    "user_name = \"training\"\n",
    "user_password = \"training\"\n",
    "dai_url = \"https://34-209-212-180.aquarium-instance.h2o.ai/\"\n",
    "\n",
    "dai = driverlessai.Client(\n",
    "    address=dai_url, \n",
    "    username=user_name,\n",
    "    password=user_password,\n",
    "    verify=False\n",
    ")"
   ]
  },
  {
   "cell_type": "code",
   "execution_count": 4,
   "metadata": {},
   "outputs": [
    {
     "data": {
      "text/plain": [
       "'1.10.5'"
      ]
     },
     "execution_count": 4,
     "metadata": {},
     "output_type": "execute_result"
    }
   ],
   "source": [
    "# Verify connection and the server version\n",
    "dai.server.version"
   ]
  },
  {
   "cell_type": "markdown",
   "metadata": {},
   "source": [
    "**Example on how to access function help from the notebook**"
   ]
  },
  {
   "cell_type": "code",
   "execution_count": 5,
   "metadata": {
    "scrolled": true
   },
   "outputs": [
    {
     "name": "stdout",
     "output_type": "stream",
     "text": [
      "Help on Datasets in module driverlessai._datasets object:\n",
      "\n",
      "class Datasets(builtins.object)\n",
      " |  Datasets(client: '_core.Client') -> None\n",
      " |  \n",
      " |  Interact with datasets on the Driverless AI server.\n",
      " |  \n",
      " |  Methods defined here:\n",
      " |  \n",
      " |  __init__(self, client: '_core.Client') -> None\n",
      " |      Initialize self.  See help(type(self)) for accurate signature.\n",
      " |  \n",
      " |  create(self, data: Union[str, ForwardRef('pandas.DataFrame')], data_source: str = 'upload', data_source_config: Dict[str, str] = None, force: bool = False, name: str = None) -> 'Dataset'\n",
      " |      Create a dataset on the Driverless AI server and return a Dataset\n",
      " |      object corresponding to the created dataset.\n",
      " |      \n",
      " |      Args:\n",
      " |          data: path to data file(s) or folder, a Pandas DataFrame,\n",
      " |              or query string for SQL based data sources\n",
      " |          data_source: name of connector to use for data transfer\n",
      " |              (use ``driverlessai.connectors.list()`` to see configured names)\n",
      " |          data_source_config: dictionary of configuration options for\n",
      " |              advanced connectors\n",
      " |          force: create new dataset even if dataset with same name already exists\n",
      " |          name: dataset name on the Driverless AI server\n",
      " |      \n",
      " |      Examples::\n",
      " |      \n",
      " |          ds = dai.datasets.create(\n",
      " |              data='s3://h2o-public-test-data/smalldata/iris/iris.csv',\n",
      " |              data_source='s3'\n",
      " |          )\n",
      " |  \n",
      " |  create_async(self, data: Union[str, ForwardRef('pandas.DataFrame')], data_source: str = 'upload', data_source_config: Dict[str, str] = None, force: bool = False, name: str = None) -> 'DatasetJob'\n",
      " |      Launch creation of a dataset on the Driverless AI server and return\n",
      " |      a DatasetJob object to track the status.\n",
      " |      \n",
      " |      Args:\n",
      " |          data: path to data file(s) or folder, a Pandas DataFrame,\n",
      " |              or query string for SQL based data sources\n",
      " |          data_source: name of connector to use for data transfer\n",
      " |              (use ``driverlessai.connectors.list()`` to see configured names)\n",
      " |          data_source_config: dictionary of configuration options for\n",
      " |              advanced connectors\n",
      " |          force: create new dataset even if dataset with same name already exists\n",
      " |          name: dataset name on the Driverless AI server\n",
      " |      \n",
      " |      Examples::\n",
      " |      \n",
      " |          ds = dai.datasets.create_async(\n",
      " |              data='s3://h2o-public-test-data/smalldata/iris/iris.csv',\n",
      " |              data_source='s3'\n",
      " |          )\n",
      " |  \n",
      " |  get(self, key: str) -> 'Dataset'\n",
      " |      Get a Dataset object corresponding to a dataset on the\n",
      " |      Driverless AI server. If the dataset only exists on H2O.ai Storage,\n",
      " |      it will be imported to the server first.\n",
      " |      \n",
      " |      Args:\n",
      " |          key: Driverless AI server's unique ID for the dataset\n",
      " |      \n",
      " |      Examples::\n",
      " |      \n",
      " |          # Use the UUID of the dataset to retrieve the dataset object\n",
      " |          key = 'e7de8630-dbfb-11ea-9f69-0242ac110002'\n",
      " |          ds = dai.datasets.get(key=key)\n",
      " |  \n",
      " |  gui(self) -> driverlessai._utils.Hyperlink\n",
      " |      Get full URL for the user's datasets page on Driverless AI server.\n",
      " |      \n",
      " |      Examples::\n",
      " |      \n",
      " |          dai.datasets.gui()\n",
      " |  \n",
      " |  list(self, start_index: int = 0, count: int = None) -> Sequence[ForwardRef('Dataset')]\n",
      " |      List of Dataset objects available to the user.\n",
      " |      \n",
      " |      Args:\n",
      " |          start_index: index on Driverless AI server of first dataset to list\n",
      " |          count: max number of datasets to request from the Driverless AI server\n",
      " |      \n",
      " |      Examples::\n",
      " |      \n",
      " |          dai.datasets.list(start_index=10, count=5)\n",
      " |  \n",
      " |  ----------------------------------------------------------------------\n",
      " |  Data descriptors defined here:\n",
      " |  \n",
      " |  __dict__\n",
      " |      dictionary for instance variables (if defined)\n",
      " |  \n",
      " |  __weakref__\n",
      " |      list of weak references to the object (if defined)\n",
      "\n"
     ]
    }
   ],
   "source": [
    "help(dai.datasets)"
   ]
  },
  {
   "cell_type": "markdown",
   "metadata": {},
   "source": [
    "## Datasets"
   ]
  },
  {
   "cell_type": "markdown",
   "metadata": {},
   "source": [
    "**List available datasets**"
   ]
  },
  {
   "cell_type": "code",
   "execution_count": 6,
   "metadata": {},
   "outputs": [
    {
     "data": {
      "text/plain": [
       "    | Type    | Key                                  | Name\n",
       "----+---------+--------------------------------------+----------------------------\n",
       "  0 | Dataset | f7a57df8-da2c-11ed-bbe0-0242ac110002 | CustomerChurn.test\n",
       "  1 | Dataset | f7a51052-da2c-11ed-bbe0-0242ac110002 | CustomerChurn.train\n",
       "  2 | Dataset | ddaf4dac-da2c-11ed-bbe0-0242ac110002 | CustomerChurnImbalance.csv\n",
       "  3 | Dataset | c8754950-da09-11ed-bbe0-0242ac110002 | AmazonReviews.test\n",
       "  4 | Dataset | c87493de-da09-11ed-bbe0-0242ac110002 | AmazonReviews.train\n",
       "  5 | Dataset | 3ff5c726-da09-11ed-bbe0-0242ac110002 | AmazonFineFoodReviews.csv\n",
       "  6 | Dataset | a2e7d276-da03-11ed-bbe0-0242ac110002 | CallCenterSmall.test\n",
       "  7 | Dataset | a2e75904-da03-11ed-bbe0-0242ac110002 | CallCenterSmall.train\n",
       "  8 | Dataset | 2feaf03c-da03-11ed-bbe0-0242ac110002 | CallCenterSmall.csv\n",
       "  9 | Dataset | 47919262-d8c4-11ed-8c99-0242ac110002 | Credit_Score_Test.csv\n",
       " 10 | Dataset | 40dffc1a-d8c4-11ed-8c99-0242ac110002 | Credit_Score_Train.csv\n",
       " 11 | Dataset | 324f2e5a-d8c4-11ed-8c99-0242ac110002 | Credit_Score.csv"
      ]
     },
     "execution_count": 6,
     "metadata": {},
     "output_type": "execute_result"
    }
   ],
   "source": [
    "dai.datasets.list()"
   ]
  },
  {
   "cell_type": "markdown",
   "metadata": {},
   "source": [
    "Upload a dataset to the DAI server. \n",
    "\n",
    "First, list available connectors."
   ]
  },
  {
   "cell_type": "code",
   "execution_count": 7,
   "metadata": {
    "scrolled": true
   },
   "outputs": [
    {
     "data": {
      "text/plain": [
       "['upload', 'file', 'hdfs', 's3', 'recipe_file', 'recipe_url']"
      ]
     },
     "execution_count": 7,
     "metadata": {},
     "output_type": "execute_result"
    }
   ],
   "source": [
    "dai.connectors.list()"
   ]
  },
  {
   "cell_type": "code",
   "execution_count": 8,
   "metadata": {},
   "outputs": [
    {
     "name": "stdout",
     "output_type": "stream",
     "text": [
      "Help on method create in module driverlessai._datasets:\n",
      "\n",
      "create(data: Union[str, ForwardRef('pandas.DataFrame')], data_source: str = 'upload', data_source_config: Dict[str, str] = None, force: bool = False, name: str = None) -> 'Dataset' method of driverlessai._datasets.Datasets instance\n",
      "    Create a dataset on the Driverless AI server and return a Dataset\n",
      "    object corresponding to the created dataset.\n",
      "    \n",
      "    Args:\n",
      "        data: path to data file(s) or folder, a Pandas DataFrame,\n",
      "            or query string for SQL based data sources\n",
      "        data_source: name of connector to use for data transfer\n",
      "            (use ``driverlessai.connectors.list()`` to see configured names)\n",
      "        data_source_config: dictionary of configuration options for\n",
      "            advanced connectors\n",
      "        force: create new dataset even if dataset with same name already exists\n",
      "        name: dataset name on the Driverless AI server\n",
      "    \n",
      "    Examples::\n",
      "    \n",
      "        ds = dai.datasets.create(\n",
      "            data='s3://h2o-public-test-data/smalldata/iris/iris.csv',\n",
      "            data_source='s3'\n",
      "        )\n",
      "\n"
     ]
    }
   ],
   "source": [
    "help(dai.datasets.create)"
   ]
  },
  {
   "cell_type": "markdown",
   "metadata": {},
   "source": [
    "Simple connector. Create dataset in DAI from local (Notebook location) file - using default option `data_source=\"upload\"`."
   ]
  },
  {
   "cell_type": "code",
   "execution_count": 9,
   "metadata": {},
   "outputs": [
    {
     "name": "stdout",
     "output_type": "stream",
     "text": [
      "Complete 100.00% - [4/4] Computed stats for column default payment next month\n"
     ]
    }
   ],
   "source": [
    "ds = dai.datasets.create('./data/creditcard_small.csv', force=True)"
   ]
  },
  {
   "cell_type": "markdown",
   "metadata": {},
   "source": [
    "`ds` is now pointer to the dataset in DAI"
   ]
  },
  {
   "cell_type": "code",
   "execution_count": 10,
   "metadata": {},
   "outputs": [
    {
     "data": {
      "text/html": [
       "<table>\n",
       "<thead>\n",
       "<tr><th style=\"text-align: right;\">  ID</th><th style=\"text-align: right;\">  LIMIT_BAL</th><th style=\"text-align: right;\">  SEX</th><th style=\"text-align: right;\">  EDUCATION</th><th style=\"text-align: right;\">  MARRIAGE</th><th style=\"text-align: right;\">  AGE</th><th style=\"text-align: right;\">  PAt_0</th><th style=\"text-align: right;\">  PAY_2</th><th style=\"text-align: right;\">  PAY_3</th><th style=\"text-align: right;\">  PAY_4</th><th style=\"text-align: right;\">  PAY_5</th><th style=\"text-align: right;\">  PAY_6</th><th style=\"text-align: right;\">  BILL_AMt1</th><th style=\"text-align: right;\">  BILL_AMT2</th><th style=\"text-align: right;\">  BILL_AMT3</th><th style=\"text-align: right;\">  BILL_AMT4</th><th style=\"text-align: right;\">  BILL_AMT5</th><th style=\"text-align: right;\">  BILL_AMT6</th><th style=\"text-align: right;\">  PAY_AMT1</th><th style=\"text-align: right;\">  PAY_AMT2</th><th style=\"text-align: right;\">  PAY_AMT3</th><th style=\"text-align: right;\">  PAY_AMT4</th><th style=\"text-align: right;\">  PAY_AMT5</th><th style=\"text-align: right;\">  PAY_AMT6</th><th>default payment next month  </th></tr>\n",
       "</thead>\n",
       "<tbody>\n",
       "<tr><td style=\"text-align: right;\">   1</td><td style=\"text-align: right;\">      20000</td><td style=\"text-align: right;\">    2</td><td style=\"text-align: right;\">          2</td><td style=\"text-align: right;\">         1</td><td style=\"text-align: right;\">   24</td><td style=\"text-align: right;\">     -2</td><td style=\"text-align: right;\">      2</td><td style=\"text-align: right;\">     -1</td><td style=\"text-align: right;\">     -1</td><td style=\"text-align: right;\">     -2</td><td style=\"text-align: right;\">     -2</td><td style=\"text-align: right;\">       3913</td><td style=\"text-align: right;\">       3102</td><td style=\"text-align: right;\">        689</td><td style=\"text-align: right;\">          0</td><td style=\"text-align: right;\">          0</td><td style=\"text-align: right;\">          0</td><td style=\"text-align: right;\">         0</td><td style=\"text-align: right;\">       689</td><td style=\"text-align: right;\">         0</td><td style=\"text-align: right;\">         0</td><td style=\"text-align: right;\">         0</td><td style=\"text-align: right;\">         0</td><td>True                        </td></tr>\n",
       "<tr><td style=\"text-align: right;\">   2</td><td style=\"text-align: right;\">     120000</td><td style=\"text-align: right;\">    2</td><td style=\"text-align: right;\">          2</td><td style=\"text-align: right;\">         2</td><td style=\"text-align: right;\">   26</td><td style=\"text-align: right;\">     -1</td><td style=\"text-align: right;\">      2</td><td style=\"text-align: right;\">      0</td><td style=\"text-align: right;\">      0</td><td style=\"text-align: right;\">      0</td><td style=\"text-align: right;\">      2</td><td style=\"text-align: right;\">       2682</td><td style=\"text-align: right;\">       1725</td><td style=\"text-align: right;\">       2682</td><td style=\"text-align: right;\">       3272</td><td style=\"text-align: right;\">       3455</td><td style=\"text-align: right;\">       3261</td><td style=\"text-align: right;\">         0</td><td style=\"text-align: right;\">      1000</td><td style=\"text-align: right;\">      1000</td><td style=\"text-align: right;\">      1000</td><td style=\"text-align: right;\">         0</td><td style=\"text-align: right;\">      2000</td><td>True                        </td></tr>\n",
       "<tr><td style=\"text-align: right;\">   3</td><td style=\"text-align: right;\">      90000</td><td style=\"text-align: right;\">    2</td><td style=\"text-align: right;\">          2</td><td style=\"text-align: right;\">         2</td><td style=\"text-align: right;\">   34</td><td style=\"text-align: right;\">      0</td><td style=\"text-align: right;\">      0</td><td style=\"text-align: right;\">      0</td><td style=\"text-align: right;\">      0</td><td style=\"text-align: right;\">      0</td><td style=\"text-align: right;\">      0</td><td style=\"text-align: right;\">      29239</td><td style=\"text-align: right;\">      14027</td><td style=\"text-align: right;\">      13559</td><td style=\"text-align: right;\">      14331</td><td style=\"text-align: right;\">      14948</td><td style=\"text-align: right;\">      15549</td><td style=\"text-align: right;\">      1518</td><td style=\"text-align: right;\">      1500</td><td style=\"text-align: right;\">      1000</td><td style=\"text-align: right;\">      1000</td><td style=\"text-align: right;\">      1000</td><td style=\"text-align: right;\">      5000</td><td>False                       </td></tr>\n",
       "<tr><td style=\"text-align: right;\">   4</td><td style=\"text-align: right;\">      50000</td><td style=\"text-align: right;\">    2</td><td style=\"text-align: right;\">          2</td><td style=\"text-align: right;\">         1</td><td style=\"text-align: right;\">   37</td><td style=\"text-align: right;\">      1</td><td style=\"text-align: right;\">      0</td><td style=\"text-align: right;\">      0</td><td style=\"text-align: right;\">      0</td><td style=\"text-align: right;\">      0</td><td style=\"text-align: right;\">      0</td><td style=\"text-align: right;\">      46990</td><td style=\"text-align: right;\">      48233</td><td style=\"text-align: right;\">      49291</td><td style=\"text-align: right;\">      28314</td><td style=\"text-align: right;\">      28959</td><td style=\"text-align: right;\">      29547</td><td style=\"text-align: right;\">      2000</td><td style=\"text-align: right;\">      2019</td><td style=\"text-align: right;\">      1200</td><td style=\"text-align: right;\">      1100</td><td style=\"text-align: right;\">      1069</td><td style=\"text-align: right;\">      1000</td><td>False                       </td></tr>\n",
       "<tr><td style=\"text-align: right;\">   5</td><td style=\"text-align: right;\">      50000</td><td style=\"text-align: right;\">    1</td><td style=\"text-align: right;\">          2</td><td style=\"text-align: right;\">         1</td><td style=\"text-align: right;\">   57</td><td style=\"text-align: right;\">      2</td><td style=\"text-align: right;\">      0</td><td style=\"text-align: right;\">     -1</td><td style=\"text-align: right;\">      0</td><td style=\"text-align: right;\">      0</td><td style=\"text-align: right;\">      0</td><td style=\"text-align: right;\">       8617</td><td style=\"text-align: right;\">       5670</td><td style=\"text-align: right;\">      35835</td><td style=\"text-align: right;\">      20940</td><td style=\"text-align: right;\">      19146</td><td style=\"text-align: right;\">      19131</td><td style=\"text-align: right;\">      2000</td><td style=\"text-align: right;\">     36681</td><td style=\"text-align: right;\">     10000</td><td style=\"text-align: right;\">      9000</td><td style=\"text-align: right;\">       689</td><td style=\"text-align: right;\">       679</td><td>False                       </td></tr>\n",
       "</tbody>\n",
       "</table>"
      ],
      "text/plain": [
       "<driverlessai._utils.Table at 0x7ff4c6b1d790>"
      ]
     },
     "execution_count": 10,
     "metadata": {},
     "output_type": "execute_result"
    }
   ],
   "source": [
    "ds.head()"
   ]
  },
  {
   "cell_type": "markdown",
   "metadata": {},
   "source": [
    "Example use of JDBC connector to create DAI dataset from a PostgreSQL database.\n",
    "```python\n",
    "jdbc_config = {\n",
    "    'jdbc_jar': '/data/postgresql-42.2.9.jar',\n",
    "    'jdbc_driver': 'org.postgresql.Driver',\n",
    "    'jdbc_url': 'jdbc:postgresql://mr-dl2:5432/h2oaidev',\n",
    "    'jdbc_username': 'h2oaitester',\n",
    "    'jdbc_password': 'h2oaitesterreadonly'\n",
    "}\n",
    "\n",
    "jdbc_ds = dai.datasets.create(   \n",
    "    data='SELECT * FROM creditcardtrain',\n",
    "    data_source='jdbc',\n",
    "    data_source_config=jdbc_config,\n",
    "    name='beta_jdbc_test'\n",
    ")\n",
    "```"
   ]
  },
  {
   "cell_type": "markdown",
   "metadata": {},
   "source": [
    "Set column type and datetime format. Only needed if we want to \"force\" spesific logical datatypes to be considered by DAI. Same as modifying via GUI.\n",
    "\n",
    "Valid logical types:\n",
    "\n",
    "- ``'categorical'``\n",
    "- ``'date'``\n",
    "- ``'datetime'``\n",
    "- ``'id'``\n",
    "- ``'numerical'``\n",
    "- ``'text'``\n"
   ]
  },
  {
   "cell_type": "code",
   "execution_count": 11,
   "metadata": {},
   "outputs": [],
   "source": [
    "ds.set_logical_types({'SEX': ['numerical', 'categorical']})\n",
    "ds.set_datetime_format({'AGE': 'YY'})"
   ]
  },
  {
   "cell_type": "markdown",
   "metadata": {},
   "source": [
    "Display dataset metadata"
   ]
  },
  {
   "cell_type": "code",
   "execution_count": 12,
   "metadata": {
    "scrolled": true
   },
   "outputs": [
    {
     "name": "stdout",
     "output_type": "stream",
     "text": [
      "creditcard_small.csv | 8052b888-30a8-11ee-b104-0242ac110002\n",
      "Creation Timestamp: 1690921076.0646183\n",
      "Columns: ['ID', 'LIMIT_BAL', 'SEX', 'EDUCATION', 'MARRIAGE', 'AGE', 'PAt_0', 'PAY_2', 'PAY_3', 'PAY_4', 'PAY_5', 'PAY_6', 'BILL_AMt1', 'BILL_AMT2', 'BILL_AMT3', 'BILL_AMT4', 'BILL_AMT5', 'BILL_AMT6', 'PAY_AMT1', 'PAY_AMT2', 'PAY_AMT3', 'PAY_AMT4', 'PAY_AMT5', 'PAY_AMT6', 'default payment next month']\n",
      "Shape: (23999, 25)\n",
      "Head:\n"
     ]
    },
    {
     "data": {
      "text/html": [
       "<table>\n",
       "<thead>\n",
       "<tr><th style=\"text-align: right;\">  ID</th><th style=\"text-align: right;\">  LIMIT_BAL</th><th style=\"text-align: right;\">  SEX</th><th style=\"text-align: right;\">  EDUCATION</th><th style=\"text-align: right;\">  MARRIAGE</th><th style=\"text-align: right;\">  AGE</th><th style=\"text-align: right;\">  PAt_0</th><th style=\"text-align: right;\">  PAY_2</th><th style=\"text-align: right;\">  PAY_3</th><th style=\"text-align: right;\">  PAY_4</th><th style=\"text-align: right;\">  PAY_5</th><th style=\"text-align: right;\">  PAY_6</th><th style=\"text-align: right;\">  BILL_AMt1</th><th style=\"text-align: right;\">  BILL_AMT2</th><th style=\"text-align: right;\">  BILL_AMT3</th><th style=\"text-align: right;\">  BILL_AMT4</th><th style=\"text-align: right;\">  BILL_AMT5</th><th style=\"text-align: right;\">  BILL_AMT6</th><th style=\"text-align: right;\">  PAY_AMT1</th><th style=\"text-align: right;\">  PAY_AMT2</th><th style=\"text-align: right;\">  PAY_AMT3</th><th style=\"text-align: right;\">  PAY_AMT4</th><th style=\"text-align: right;\">  PAY_AMT5</th><th style=\"text-align: right;\">  PAY_AMT6</th><th>default payment next month  </th></tr>\n",
       "</thead>\n",
       "<tbody>\n",
       "<tr><td style=\"text-align: right;\">   1</td><td style=\"text-align: right;\">      20000</td><td style=\"text-align: right;\">    2</td><td style=\"text-align: right;\">          2</td><td style=\"text-align: right;\">         1</td><td style=\"text-align: right;\">   24</td><td style=\"text-align: right;\">     -2</td><td style=\"text-align: right;\">      2</td><td style=\"text-align: right;\">     -1</td><td style=\"text-align: right;\">     -1</td><td style=\"text-align: right;\">     -2</td><td style=\"text-align: right;\">     -2</td><td style=\"text-align: right;\">       3913</td><td style=\"text-align: right;\">       3102</td><td style=\"text-align: right;\">        689</td><td style=\"text-align: right;\">          0</td><td style=\"text-align: right;\">          0</td><td style=\"text-align: right;\">          0</td><td style=\"text-align: right;\">         0</td><td style=\"text-align: right;\">       689</td><td style=\"text-align: right;\">         0</td><td style=\"text-align: right;\">         0</td><td style=\"text-align: right;\">         0</td><td style=\"text-align: right;\">         0</td><td>True                        </td></tr>\n",
       "<tr><td style=\"text-align: right;\">   2</td><td style=\"text-align: right;\">     120000</td><td style=\"text-align: right;\">    2</td><td style=\"text-align: right;\">          2</td><td style=\"text-align: right;\">         2</td><td style=\"text-align: right;\">   26</td><td style=\"text-align: right;\">     -1</td><td style=\"text-align: right;\">      2</td><td style=\"text-align: right;\">      0</td><td style=\"text-align: right;\">      0</td><td style=\"text-align: right;\">      0</td><td style=\"text-align: right;\">      2</td><td style=\"text-align: right;\">       2682</td><td style=\"text-align: right;\">       1725</td><td style=\"text-align: right;\">       2682</td><td style=\"text-align: right;\">       3272</td><td style=\"text-align: right;\">       3455</td><td style=\"text-align: right;\">       3261</td><td style=\"text-align: right;\">         0</td><td style=\"text-align: right;\">      1000</td><td style=\"text-align: right;\">      1000</td><td style=\"text-align: right;\">      1000</td><td style=\"text-align: right;\">         0</td><td style=\"text-align: right;\">      2000</td><td>True                        </td></tr>\n",
       "<tr><td style=\"text-align: right;\">   3</td><td style=\"text-align: right;\">      90000</td><td style=\"text-align: right;\">    2</td><td style=\"text-align: right;\">          2</td><td style=\"text-align: right;\">         2</td><td style=\"text-align: right;\">   34</td><td style=\"text-align: right;\">      0</td><td style=\"text-align: right;\">      0</td><td style=\"text-align: right;\">      0</td><td style=\"text-align: right;\">      0</td><td style=\"text-align: right;\">      0</td><td style=\"text-align: right;\">      0</td><td style=\"text-align: right;\">      29239</td><td style=\"text-align: right;\">      14027</td><td style=\"text-align: right;\">      13559</td><td style=\"text-align: right;\">      14331</td><td style=\"text-align: right;\">      14948</td><td style=\"text-align: right;\">      15549</td><td style=\"text-align: right;\">      1518</td><td style=\"text-align: right;\">      1500</td><td style=\"text-align: right;\">      1000</td><td style=\"text-align: right;\">      1000</td><td style=\"text-align: right;\">      1000</td><td style=\"text-align: right;\">      5000</td><td>False                       </td></tr>\n",
       "<tr><td style=\"text-align: right;\">   4</td><td style=\"text-align: right;\">      50000</td><td style=\"text-align: right;\">    2</td><td style=\"text-align: right;\">          2</td><td style=\"text-align: right;\">         1</td><td style=\"text-align: right;\">   37</td><td style=\"text-align: right;\">      1</td><td style=\"text-align: right;\">      0</td><td style=\"text-align: right;\">      0</td><td style=\"text-align: right;\">      0</td><td style=\"text-align: right;\">      0</td><td style=\"text-align: right;\">      0</td><td style=\"text-align: right;\">      46990</td><td style=\"text-align: right;\">      48233</td><td style=\"text-align: right;\">      49291</td><td style=\"text-align: right;\">      28314</td><td style=\"text-align: right;\">      28959</td><td style=\"text-align: right;\">      29547</td><td style=\"text-align: right;\">      2000</td><td style=\"text-align: right;\">      2019</td><td style=\"text-align: right;\">      1200</td><td style=\"text-align: right;\">      1100</td><td style=\"text-align: right;\">      1069</td><td style=\"text-align: right;\">      1000</td><td>False                       </td></tr>\n",
       "<tr><td style=\"text-align: right;\">   5</td><td style=\"text-align: right;\">      50000</td><td style=\"text-align: right;\">    1</td><td style=\"text-align: right;\">          2</td><td style=\"text-align: right;\">         1</td><td style=\"text-align: right;\">   57</td><td style=\"text-align: right;\">      2</td><td style=\"text-align: right;\">      0</td><td style=\"text-align: right;\">     -1</td><td style=\"text-align: right;\">      0</td><td style=\"text-align: right;\">      0</td><td style=\"text-align: right;\">      0</td><td style=\"text-align: right;\">       8617</td><td style=\"text-align: right;\">       5670</td><td style=\"text-align: right;\">      35835</td><td style=\"text-align: right;\">      20940</td><td style=\"text-align: right;\">      19146</td><td style=\"text-align: right;\">      19131</td><td style=\"text-align: right;\">      2000</td><td style=\"text-align: right;\">     36681</td><td style=\"text-align: right;\">     10000</td><td style=\"text-align: right;\">      9000</td><td style=\"text-align: right;\">       689</td><td style=\"text-align: right;\">       679</td><td>False                       </td></tr>\n",
       "</tbody>\n",
       "</table>"
      ],
      "text/plain": [
       "<driverlessai._utils.Table at 0x7ff4c8106f10>"
      ]
     },
     "metadata": {},
     "output_type": "display_data"
    },
    {
     "name": "stdout",
     "output_type": "stream",
     "text": [
      "Tail:\n"
     ]
    },
    {
     "data": {
      "text/html": [
       "<table>\n",
       "<thead>\n",
       "<tr><th style=\"text-align: right;\">   ID</th><th style=\"text-align: right;\">  LIMIT_BAL</th><th style=\"text-align: right;\">  SEX</th><th style=\"text-align: right;\">  EDUCATION</th><th style=\"text-align: right;\">  MARRIAGE</th><th style=\"text-align: right;\">  AGE</th><th style=\"text-align: right;\">  PAt_0</th><th style=\"text-align: right;\">  PAY_2</th><th style=\"text-align: right;\">  PAY_3</th><th style=\"text-align: right;\">  PAY_4</th><th style=\"text-align: right;\">  PAY_5</th><th style=\"text-align: right;\">  PAY_6</th><th style=\"text-align: right;\">  BILL_AMt1</th><th style=\"text-align: right;\">  BILL_AMT2</th><th style=\"text-align: right;\">  BILL_AMT3</th><th style=\"text-align: right;\">  BILL_AMT4</th><th style=\"text-align: right;\">  BILL_AMT5</th><th style=\"text-align: right;\">  BILL_AMT6</th><th style=\"text-align: right;\">  PAY_AMT1</th><th style=\"text-align: right;\">  PAY_AMT2</th><th style=\"text-align: right;\">  PAY_AMT3</th><th style=\"text-align: right;\">  PAY_AMT4</th><th style=\"text-align: right;\">  PAY_AMT5</th><th style=\"text-align: right;\">  PAY_AMT6</th><th>default payment next month  </th></tr>\n",
       "</thead>\n",
       "<tbody>\n",
       "<tr><td style=\"text-align: right;\">23995</td><td style=\"text-align: right;\">      30000</td><td style=\"text-align: right;\">    1</td><td style=\"text-align: right;\">          2</td><td style=\"text-align: right;\">         2</td><td style=\"text-align: right;\">   25</td><td style=\"text-align: right;\">      0</td><td style=\"text-align: right;\">      0</td><td style=\"text-align: right;\">      0</td><td style=\"text-align: right;\">      0</td><td style=\"text-align: right;\">      0</td><td style=\"text-align: right;\">      0</td><td style=\"text-align: right;\">      30274</td><td style=\"text-align: right;\">      30517</td><td style=\"text-align: right;\">      30485</td><td style=\"text-align: right;\">      30533</td><td style=\"text-align: right;\">      29148</td><td style=\"text-align: right;\">      29782</td><td style=\"text-align: right;\">      1932</td><td style=\"text-align: right;\">      3900</td><td style=\"text-align: right;\">      1700</td><td style=\"text-align: right;\">      1200</td><td style=\"text-align: right;\">      1180</td><td style=\"text-align: right;\">      2500</td><td>False                       </td></tr>\n",
       "<tr><td style=\"text-align: right;\">23996</td><td style=\"text-align: right;\">      80000</td><td style=\"text-align: right;\">    1</td><td style=\"text-align: right;\">          2</td><td style=\"text-align: right;\">         1</td><td style=\"text-align: right;\">   25</td><td style=\"text-align: right;\">      1</td><td style=\"text-align: right;\">      2</td><td style=\"text-align: right;\">      2</td><td style=\"text-align: right;\">      0</td><td style=\"text-align: right;\">      0</td><td style=\"text-align: right;\">      0</td><td style=\"text-align: right;\">      80906</td><td style=\"text-align: right;\">      82789</td><td style=\"text-align: right;\">      80903</td><td style=\"text-align: right;\">      80215</td><td style=\"text-align: right;\">      63296</td><td style=\"text-align: right;\">      49854</td><td style=\"text-align: right;\">      3800</td><td style=\"text-align: right;\">         6</td><td style=\"text-align: right;\">      3636</td><td style=\"text-align: right;\">      2646</td><td style=\"text-align: right;\">      2000</td><td style=\"text-align: right;\">      1830</td><td>False                       </td></tr>\n",
       "<tr><td style=\"text-align: right;\">23997</td><td style=\"text-align: right;\">      20000</td><td style=\"text-align: right;\">    1</td><td style=\"text-align: right;\">          2</td><td style=\"text-align: right;\">         1</td><td style=\"text-align: right;\">   25</td><td style=\"text-align: right;\">      0</td><td style=\"text-align: right;\">      0</td><td style=\"text-align: right;\">      0</td><td style=\"text-align: right;\">      0</td><td style=\"text-align: right;\">      0</td><td style=\"text-align: right;\">      0</td><td style=\"text-align: right;\">      14447</td><td style=\"text-align: right;\">      15455</td><td style=\"text-align: right;\">      17562</td><td style=\"text-align: right;\">      17322</td><td style=\"text-align: right;\">      17119</td><td style=\"text-align: right;\">      17350</td><td style=\"text-align: right;\">      1552</td><td style=\"text-align: right;\">      2659</td><td style=\"text-align: right;\">      1419</td><td style=\"text-align: right;\">       606</td><td style=\"text-align: right;\">       500</td><td style=\"text-align: right;\">      1000</td><td>False                       </td></tr>\n",
       "<tr><td style=\"text-align: right;\">23998</td><td style=\"text-align: right;\">      10000</td><td style=\"text-align: right;\">    1</td><td style=\"text-align: right;\">          2</td><td style=\"text-align: right;\">         2</td><td style=\"text-align: right;\">   26</td><td style=\"text-align: right;\">      0</td><td style=\"text-align: right;\">      0</td><td style=\"text-align: right;\">      0</td><td style=\"text-align: right;\">      0</td><td style=\"text-align: right;\">      0</td><td style=\"text-align: right;\">      0</td><td style=\"text-align: right;\">       8882</td><td style=\"text-align: right;\">       9933</td><td style=\"text-align: right;\">       9825</td><td style=\"text-align: right;\">      17506</td><td style=\"text-align: right;\">      16608</td><td style=\"text-align: right;\">       9176</td><td style=\"text-align: right;\">      1300</td><td style=\"text-align: right;\">      2200</td><td style=\"text-align: right;\">      1300</td><td style=\"text-align: right;\">       320</td><td style=\"text-align: right;\">      1820</td><td style=\"text-align: right;\">      1000</td><td>False                       </td></tr>\n",
       "<tr><td style=\"text-align: right;\">23999</td><td style=\"text-align: right;\">      20000</td><td style=\"text-align: right;\">    1</td><td style=\"text-align: right;\">          5</td><td style=\"text-align: right;\">         2</td><td style=\"text-align: right;\">   26</td><td style=\"text-align: right;\">      0</td><td style=\"text-align: right;\">      0</td><td style=\"text-align: right;\">      0</td><td style=\"text-align: right;\">      0</td><td style=\"text-align: right;\">      0</td><td style=\"text-align: right;\">     -2</td><td style=\"text-align: right;\">      20564</td><td style=\"text-align: right;\">      20284</td><td style=\"text-align: right;\">      19394</td><td style=\"text-align: right;\">      39950</td><td style=\"text-align: right;\">          0</td><td style=\"text-align: right;\">          0</td><td style=\"text-align: right;\">      3055</td><td style=\"text-align: right;\">      1467</td><td style=\"text-align: right;\">      1096</td><td style=\"text-align: right;\">      1000</td><td style=\"text-align: right;\">         0</td><td style=\"text-align: right;\">         0</td><td>False                       </td></tr>\n",
       "</tbody>\n",
       "</table>"
      ],
      "text/plain": [
       "<driverlessai._utils.Table at 0x7ff4c6b1d730>"
      ]
     },
     "metadata": {},
     "output_type": "display_data"
    },
    {
     "name": "stdout",
     "output_type": "stream",
     "text": [
      "Summary:\n",
      "--- LIMIT_BAL ---\n",
      "\n",
      " 1e+04|████████████████████\n",
      "      |████████████\n",
      "      |████████\n",
      "      |████\n",
      "      |██\n",
      "      |\n",
      "      |\n",
      "      |\n",
      "      |\n",
      " 1e+06|\n",
      "\n",
      "Data Type: int\n",
      "Logical Types: []\n",
      "Datetime Format: \n",
      "Count: 23999\n",
      "Missing: 0\n",
      "Mean: 1.65e+05\n",
      "SD: 1.29e+05\n",
      "Min: 1e+04\n",
      "Max: 1e+06\n",
      "Unique: 79\n",
      "Freq: 2740\n",
      "--- SEX ---\n",
      "\n",
      " 1|████████████\n",
      " 2|████████████████████\n",
      "\n",
      "Data Type: int\n",
      "Logical Types: ['categorical', 'numerical']\n",
      "Datetime Format: \n",
      "Count: 23999\n",
      "Missing: 0\n",
      "Mean: 1.63\n",
      "SD: 0.483\n",
      "Min: 1\n",
      "Max: 2\n",
      "Unique: 2\n",
      "Freq: 15078\n",
      "\n"
     ]
    }
   ],
   "source": [
    "print(ds.name, \"|\", ds.key)\n",
    "print(\"Creation Timestamp:\", ds.creation_timestamp)\n",
    "print(\"Columns:\", ds.columns)\n",
    "print('Shape:', ds.shape)\n",
    "print(\"Head:\")\n",
    "display(ds.head())\n",
    "print(\"Tail:\")\n",
    "display(ds.tail())\n",
    "print(\"Summary:\")\n",
    "print(ds.column_summaries()[1:3])"
   ]
  },
  {
   "cell_type": "markdown",
   "metadata": {},
   "source": [
    "Split into train and test."
   ]
  },
  {
   "cell_type": "code",
   "execution_count": 13,
   "metadata": {},
   "outputs": [
    {
     "name": "stdout",
     "output_type": "stream",
     "text": [
      "Complete\n"
     ]
    },
    {
     "data": {
      "text/plain": [
       "{'train_dataset': <class 'Dataset'> 8207414e-30a8-11ee-b104-0242ac110002 cc_train,\n",
       " 'test_dataset': <class 'Dataset'> 820799be-30a8-11ee-b104-0242ac110002 cc_test}"
      ]
     },
     "metadata": {},
     "output_type": "display_data"
    }
   ],
   "source": [
    "ds_split = ds.split_to_train_test(\n",
    "    train_size=0.7, \n",
    "    train_name='cc_train', \n",
    "    test_name='cc_test',\n",
    "    seed=1\n",
    ")\n",
    "display(ds_split)"
   ]
  },
  {
   "cell_type": "markdown",
   "metadata": {},
   "source": [
    "View top records in the `train_dataset`:"
   ]
  },
  {
   "cell_type": "code",
   "execution_count": 14,
   "metadata": {},
   "outputs": [
    {
     "data": {
      "text/html": [
       "<table>\n",
       "<thead>\n",
       "<tr><th style=\"text-align: right;\">  ID</th><th style=\"text-align: right;\">  LIMIT_BAL</th><th style=\"text-align: right;\">  SEX</th><th style=\"text-align: right;\">  EDUCATION</th><th style=\"text-align: right;\">  MARRIAGE</th><th style=\"text-align: right;\">  AGE</th><th style=\"text-align: right;\">  PAt_0</th><th style=\"text-align: right;\">  PAY_2</th><th style=\"text-align: right;\">  PAY_3</th><th style=\"text-align: right;\">  PAY_4</th><th style=\"text-align: right;\">  PAY_5</th><th style=\"text-align: right;\">  PAY_6</th><th style=\"text-align: right;\">  BILL_AMt1</th><th style=\"text-align: right;\">  BILL_AMT2</th><th style=\"text-align: right;\">  BILL_AMT3</th><th style=\"text-align: right;\">  BILL_AMT4</th><th style=\"text-align: right;\">  BILL_AMT5</th><th style=\"text-align: right;\">  BILL_AMT6</th><th style=\"text-align: right;\">  PAY_AMT1</th><th style=\"text-align: right;\">  PAY_AMT2</th><th style=\"text-align: right;\">  PAY_AMT3</th><th style=\"text-align: right;\">  PAY_AMT4</th><th style=\"text-align: right;\">  PAY_AMT5</th><th style=\"text-align: right;\">  PAY_AMT6</th><th>default payment next month  </th></tr>\n",
       "</thead>\n",
       "<tbody>\n",
       "<tr><td style=\"text-align: right;\">   2</td><td style=\"text-align: right;\">     120000</td><td style=\"text-align: right;\">    2</td><td style=\"text-align: right;\">          2</td><td style=\"text-align: right;\">         2</td><td style=\"text-align: right;\">   26</td><td style=\"text-align: right;\">     -1</td><td style=\"text-align: right;\">      2</td><td style=\"text-align: right;\">      0</td><td style=\"text-align: right;\">      0</td><td style=\"text-align: right;\">      0</td><td style=\"text-align: right;\">      2</td><td style=\"text-align: right;\">       2682</td><td style=\"text-align: right;\">       1725</td><td style=\"text-align: right;\">       2682</td><td style=\"text-align: right;\">       3272</td><td style=\"text-align: right;\">       3455</td><td style=\"text-align: right;\">       3261</td><td style=\"text-align: right;\">         0</td><td style=\"text-align: right;\">      1000</td><td style=\"text-align: right;\">      1000</td><td style=\"text-align: right;\">      1000</td><td style=\"text-align: right;\">         0</td><td style=\"text-align: right;\">      2000</td><td>True                        </td></tr>\n",
       "<tr><td style=\"text-align: right;\">   4</td><td style=\"text-align: right;\">      50000</td><td style=\"text-align: right;\">    2</td><td style=\"text-align: right;\">          2</td><td style=\"text-align: right;\">         1</td><td style=\"text-align: right;\">   37</td><td style=\"text-align: right;\">      1</td><td style=\"text-align: right;\">      0</td><td style=\"text-align: right;\">      0</td><td style=\"text-align: right;\">      0</td><td style=\"text-align: right;\">      0</td><td style=\"text-align: right;\">      0</td><td style=\"text-align: right;\">      46990</td><td style=\"text-align: right;\">      48233</td><td style=\"text-align: right;\">      49291</td><td style=\"text-align: right;\">      28314</td><td style=\"text-align: right;\">      28959</td><td style=\"text-align: right;\">      29547</td><td style=\"text-align: right;\">      2000</td><td style=\"text-align: right;\">      2019</td><td style=\"text-align: right;\">      1200</td><td style=\"text-align: right;\">      1100</td><td style=\"text-align: right;\">      1069</td><td style=\"text-align: right;\">      1000</td><td>False                       </td></tr>\n",
       "<tr><td style=\"text-align: right;\">   6</td><td style=\"text-align: right;\">      50000</td><td style=\"text-align: right;\">    1</td><td style=\"text-align: right;\">          1</td><td style=\"text-align: right;\">         2</td><td style=\"text-align: right;\">   37</td><td style=\"text-align: right;\">      3</td><td style=\"text-align: right;\">      0</td><td style=\"text-align: right;\">      0</td><td style=\"text-align: right;\">      0</td><td style=\"text-align: right;\">      0</td><td style=\"text-align: right;\">      0</td><td style=\"text-align: right;\">      64400</td><td style=\"text-align: right;\">      57069</td><td style=\"text-align: right;\">      57608</td><td style=\"text-align: right;\">      19394</td><td style=\"text-align: right;\">      19619</td><td style=\"text-align: right;\">      20024</td><td style=\"text-align: right;\">      2500</td><td style=\"text-align: right;\">      1815</td><td style=\"text-align: right;\">       657</td><td style=\"text-align: right;\">      1000</td><td style=\"text-align: right;\">      1000</td><td style=\"text-align: right;\">       800</td><td>False                       </td></tr>\n",
       "<tr><td style=\"text-align: right;\">   9</td><td style=\"text-align: right;\">     140000</td><td style=\"text-align: right;\">    2</td><td style=\"text-align: right;\">          3</td><td style=\"text-align: right;\">         1</td><td style=\"text-align: right;\">   28</td><td style=\"text-align: right;\">      6</td><td style=\"text-align: right;\">      0</td><td style=\"text-align: right;\">      2</td><td style=\"text-align: right;\">      0</td><td style=\"text-align: right;\">      0</td><td style=\"text-align: right;\">      0</td><td style=\"text-align: right;\">      11285</td><td style=\"text-align: right;\">      14096</td><td style=\"text-align: right;\">      12108</td><td style=\"text-align: right;\">      12211</td><td style=\"text-align: right;\">      11793</td><td style=\"text-align: right;\">       3719</td><td style=\"text-align: right;\">      3329</td><td style=\"text-align: right;\">         0</td><td style=\"text-align: right;\">       432</td><td style=\"text-align: right;\">      1000</td><td style=\"text-align: right;\">      1000</td><td style=\"text-align: right;\">      1000</td><td>False                       </td></tr>\n",
       "<tr><td style=\"text-align: right;\">  10</td><td style=\"text-align: right;\">      20000</td><td style=\"text-align: right;\">    1</td><td style=\"text-align: right;\">          3</td><td style=\"text-align: right;\">         2</td><td style=\"text-align: right;\">   35</td><td style=\"text-align: right;\">      7</td><td style=\"text-align: right;\">     -2</td><td style=\"text-align: right;\">     -2</td><td style=\"text-align: right;\">     -2</td><td style=\"text-align: right;\">     -1</td><td style=\"text-align: right;\">     -1</td><td style=\"text-align: right;\">          0</td><td style=\"text-align: right;\">          0</td><td style=\"text-align: right;\">          0</td><td style=\"text-align: right;\">          0</td><td style=\"text-align: right;\">      13007</td><td style=\"text-align: right;\">      13912</td><td style=\"text-align: right;\">         0</td><td style=\"text-align: right;\">         0</td><td style=\"text-align: right;\">         0</td><td style=\"text-align: right;\">     13007</td><td style=\"text-align: right;\">      1122</td><td style=\"text-align: right;\">         0</td><td>False                       </td></tr>\n",
       "</tbody>\n",
       "</table>"
      ],
      "text/plain": [
       "<driverlessai._utils.Table at 0x7ff4c6b1d760>"
      ]
     },
     "execution_count": 14,
     "metadata": {},
     "output_type": "execute_result"
    }
   ],
   "source": [
    "ds_split[\"train_dataset\"].head()"
   ]
  },
  {
   "cell_type": "markdown",
   "metadata": {},
   "source": [
    "Download splits."
   ]
  },
  {
   "cell_type": "code",
   "execution_count": 15,
   "metadata": {},
   "outputs": [
    {
     "name": "stdout",
     "output_type": "stream",
     "text": [
      "Downloaded 'dasapoma.1690921078.9764829.csv'\n",
      "Downloaded 'tuderuka.1690921079.0794213.csv'\n"
     ]
    }
   ],
   "source": [
    "for dataset in ds_split.values():\n",
    "    dataset.download()"
   ]
  },
  {
   "cell_type": "code",
   "execution_count": 16,
   "metadata": {},
   "outputs": [
    {
     "data": {
      "text/plain": [
       "    | Type    | Key                                  | Name\n",
       "----+---------+--------------------------------------+----------------------\n",
       "  0 | Dataset | 820799be-30a8-11ee-b104-0242ac110002 | cc_test\n",
       "  1 | Dataset | 8207414e-30a8-11ee-b104-0242ac110002 | cc_train\n",
       "  2 | Dataset | 8052b888-30a8-11ee-b104-0242ac110002 | creditcard_small.csv"
      ]
     },
     "execution_count": 16,
     "metadata": {},
     "output_type": "execute_result"
    }
   ],
   "source": [
    "dai.datasets.list()[:3]"
   ]
  },
  {
   "cell_type": "markdown",
   "metadata": {},
   "source": [
    "Get dataset by `dataset_key` (**Replace with correct dataset key value**).  Here we obtain key from the first dataset in the list.\n",
    "\n",
    "\n",
    "```python"
   ]
  },
  {
   "cell_type": "code",
   "execution_count": 17,
   "metadata": {},
   "outputs": [
    {
     "data": {
      "text/plain": [
       "'820799be-30a8-11ee-b104-0242ac110002'"
      ]
     },
     "execution_count": 17,
     "metadata": {},
     "output_type": "execute_result"
    }
   ],
   "source": [
    "dai.datasets.list()[:1].__dict__[\"_data\"][0].__dict__['key']"
   ]
  },
  {
   "cell_type": "code",
   "execution_count": 18,
   "metadata": {},
   "outputs": [
    {
     "data": {
      "text/html": [
       "<table>\n",
       "<thead>\n",
       "<tr><th style=\"text-align: right;\">   ID</th><th style=\"text-align: right;\">  LIMIT_BAL</th><th style=\"text-align: right;\">  SEX</th><th style=\"text-align: right;\">  EDUCATION</th><th style=\"text-align: right;\">  MARRIAGE</th><th style=\"text-align: right;\">  AGE</th><th style=\"text-align: right;\">  PAt_0</th><th style=\"text-align: right;\">  PAY_2</th><th style=\"text-align: right;\">  PAY_3</th><th style=\"text-align: right;\">  PAY_4</th><th style=\"text-align: right;\">  PAY_5</th><th style=\"text-align: right;\">  PAY_6</th><th style=\"text-align: right;\">  BILL_AMt1</th><th style=\"text-align: right;\">  BILL_AMT2</th><th style=\"text-align: right;\">  BILL_AMT3</th><th style=\"text-align: right;\">  BILL_AMT4</th><th style=\"text-align: right;\">  BILL_AMT5</th><th style=\"text-align: right;\">  BILL_AMT6</th><th style=\"text-align: right;\">  PAY_AMT1</th><th style=\"text-align: right;\">  PAY_AMT2</th><th style=\"text-align: right;\">  PAY_AMT3</th><th style=\"text-align: right;\">  PAY_AMT4</th><th style=\"text-align: right;\">  PAY_AMT5</th><th style=\"text-align: right;\">  PAY_AMT6</th><th>default payment next month  </th></tr>\n",
       "</thead>\n",
       "<tbody>\n",
       "<tr><td style=\"text-align: right;\"> 8508</td><td style=\"text-align: right;\">      20000</td><td style=\"text-align: right;\">    2</td><td style=\"text-align: right;\">          2</td><td style=\"text-align: right;\">         2</td><td style=\"text-align: right;\">   53</td><td style=\"text-align: right;\">      4</td><td style=\"text-align: right;\">      4</td><td style=\"text-align: right;\">      3</td><td style=\"text-align: right;\">      3</td><td style=\"text-align: right;\">      2</td><td style=\"text-align: right;\">      2</td><td style=\"text-align: right;\">      18396</td><td style=\"text-align: right;\">      17826</td><td style=\"text-align: right;\">      18547</td><td style=\"text-align: right;\">      19118</td><td style=\"text-align: right;\">      18679</td><td style=\"text-align: right;\">      19812</td><td style=\"text-align: right;\">         0</td><td style=\"text-align: right;\">      1300</td><td style=\"text-align: right;\">      1170</td><td style=\"text-align: right;\">         0</td><td style=\"text-align: right;\">      1600</td><td style=\"text-align: right;\">         0</td><td>False                       </td></tr>\n",
       "<tr><td style=\"text-align: right;\">13818</td><td style=\"text-align: right;\">     160000</td><td style=\"text-align: right;\">    1</td><td style=\"text-align: right;\">          2</td><td style=\"text-align: right;\">         1</td><td style=\"text-align: right;\">   60</td><td style=\"text-align: right;\">      0</td><td style=\"text-align: right;\">      0</td><td style=\"text-align: right;\">      0</td><td style=\"text-align: right;\">      0</td><td style=\"text-align: right;\">      0</td><td style=\"text-align: right;\">      0</td><td style=\"text-align: right;\">      18056</td><td style=\"text-align: right;\">      19385</td><td style=\"text-align: right;\">      20093</td><td style=\"text-align: right;\">      20643</td><td style=\"text-align: right;\">      20920</td><td style=\"text-align: right;\">      21336</td><td style=\"text-align: right;\">      1626</td><td style=\"text-align: right;\">      1334</td><td style=\"text-align: right;\">       884</td><td style=\"text-align: right;\">       758</td><td style=\"text-align: right;\">       763</td><td style=\"text-align: right;\">       942</td><td>False                       </td></tr>\n",
       "<tr><td style=\"text-align: right;\"> 8374</td><td style=\"text-align: right;\">      20000</td><td style=\"text-align: right;\">    2</td><td style=\"text-align: right;\">          2</td><td style=\"text-align: right;\">         3</td><td style=\"text-align: right;\">   47</td><td style=\"text-align: right;\">      1</td><td style=\"text-align: right;\">      2</td><td style=\"text-align: right;\">      0</td><td style=\"text-align: right;\">      0</td><td style=\"text-align: right;\">      0</td><td style=\"text-align: right;\">      0</td><td style=\"text-align: right;\">       9325</td><td style=\"text-align: right;\">       8562</td><td style=\"text-align: right;\">       9571</td><td style=\"text-align: right;\">       9912</td><td style=\"text-align: right;\">      10036</td><td style=\"text-align: right;\">      10400</td><td style=\"text-align: right;\">      1000</td><td style=\"text-align: right;\">      1159</td><td style=\"text-align: right;\">       500</td><td style=\"text-align: right;\">       432</td><td style=\"text-align: right;\">       600</td><td style=\"text-align: right;\">         0</td><td>False                       </td></tr>\n",
       "<tr><td style=\"text-align: right;\">15578</td><td style=\"text-align: right;\">     180000</td><td style=\"text-align: right;\">    1</td><td style=\"text-align: right;\">          2</td><td style=\"text-align: right;\">         1</td><td style=\"text-align: right;\">   48</td><td style=\"text-align: right;\">     -1</td><td style=\"text-align: right;\">     -1</td><td style=\"text-align: right;\">     -1</td><td style=\"text-align: right;\">     -1</td><td style=\"text-align: right;\">     -1</td><td style=\"text-align: right;\">     -1</td><td style=\"text-align: right;\">       1294</td><td style=\"text-align: right;\">       1294</td><td style=\"text-align: right;\">       1466</td><td style=\"text-align: right;\">       1294</td><td style=\"text-align: right;\">       2324</td><td style=\"text-align: right;\">        264</td><td style=\"text-align: right;\">      1294</td><td style=\"text-align: right;\">      1466</td><td style=\"text-align: right;\">      1294</td><td style=\"text-align: right;\">      2324</td><td style=\"text-align: right;\">       264</td><td style=\"text-align: right;\">       264</td><td>False                       </td></tr>\n",
       "<tr><td style=\"text-align: right;\">22428</td><td style=\"text-align: right;\">     180000</td><td style=\"text-align: right;\">    2</td><td style=\"text-align: right;\">          2</td><td style=\"text-align: right;\">         1</td><td style=\"text-align: right;\">   34</td><td style=\"text-align: right;\">      0</td><td style=\"text-align: right;\">     -1</td><td style=\"text-align: right;\">     -1</td><td style=\"text-align: right;\">     -1</td><td style=\"text-align: right;\">     -1</td><td style=\"text-align: right;\">     -2</td><td style=\"text-align: right;\">      13954</td><td style=\"text-align: right;\">       5589</td><td style=\"text-align: right;\">       4312</td><td style=\"text-align: right;\">       2490</td><td style=\"text-align: right;\">          0</td><td style=\"text-align: right;\">          0</td><td style=\"text-align: right;\">      5589</td><td style=\"text-align: right;\">      4312</td><td style=\"text-align: right;\">      2490</td><td style=\"text-align: right;\">         0</td><td style=\"text-align: right;\">         0</td><td style=\"text-align: right;\">       150</td><td>False                       </td></tr>\n",
       "</tbody>\n",
       "</table>"
      ],
      "text/plain": [
       "<driverlessai._utils.Table at 0x7ff4c8750f70>"
      ]
     },
     "execution_count": 18,
     "metadata": {},
     "output_type": "execute_result"
    }
   ],
   "source": [
    "dataset_key = dai.datasets.list()[:1].__dict__[\"_data\"][0].__dict__['key']\n",
    "test_tt = dai.datasets.get(dataset_key)\n",
    "test_tt.head()"
   ]
  },
  {
   "cell_type": "markdown",
   "metadata": {},
   "source": [
    "Get first dataset from the list of all datasets"
   ]
  },
  {
   "cell_type": "code",
   "execution_count": 19,
   "metadata": {},
   "outputs": [
    {
     "data": {
      "text/html": [
       "<table>\n",
       "<thead>\n",
       "<tr><th style=\"text-align: right;\">   ID</th><th style=\"text-align: right;\">  LIMIT_BAL</th><th style=\"text-align: right;\">  SEX</th><th style=\"text-align: right;\">  EDUCATION</th><th style=\"text-align: right;\">  MARRIAGE</th><th style=\"text-align: right;\">  AGE</th><th style=\"text-align: right;\">  PAt_0</th><th style=\"text-align: right;\">  PAY_2</th><th style=\"text-align: right;\">  PAY_3</th><th style=\"text-align: right;\">  PAY_4</th><th style=\"text-align: right;\">  PAY_5</th><th style=\"text-align: right;\">  PAY_6</th><th style=\"text-align: right;\">  BILL_AMt1</th><th style=\"text-align: right;\">  BILL_AMT2</th><th style=\"text-align: right;\">  BILL_AMT3</th><th style=\"text-align: right;\">  BILL_AMT4</th><th style=\"text-align: right;\">  BILL_AMT5</th><th style=\"text-align: right;\">  BILL_AMT6</th><th style=\"text-align: right;\">  PAY_AMT1</th><th style=\"text-align: right;\">  PAY_AMT2</th><th style=\"text-align: right;\">  PAY_AMT3</th><th style=\"text-align: right;\">  PAY_AMT4</th><th style=\"text-align: right;\">  PAY_AMT5</th><th style=\"text-align: right;\">  PAY_AMT6</th><th>default payment next month  </th></tr>\n",
       "</thead>\n",
       "<tbody>\n",
       "<tr><td style=\"text-align: right;\"> 8508</td><td style=\"text-align: right;\">      20000</td><td style=\"text-align: right;\">    2</td><td style=\"text-align: right;\">          2</td><td style=\"text-align: right;\">         2</td><td style=\"text-align: right;\">   53</td><td style=\"text-align: right;\">      4</td><td style=\"text-align: right;\">      4</td><td style=\"text-align: right;\">      3</td><td style=\"text-align: right;\">      3</td><td style=\"text-align: right;\">      2</td><td style=\"text-align: right;\">      2</td><td style=\"text-align: right;\">      18396</td><td style=\"text-align: right;\">      17826</td><td style=\"text-align: right;\">      18547</td><td style=\"text-align: right;\">      19118</td><td style=\"text-align: right;\">      18679</td><td style=\"text-align: right;\">      19812</td><td style=\"text-align: right;\">         0</td><td style=\"text-align: right;\">      1300</td><td style=\"text-align: right;\">      1170</td><td style=\"text-align: right;\">         0</td><td style=\"text-align: right;\">      1600</td><td style=\"text-align: right;\">         0</td><td>False                       </td></tr>\n",
       "<tr><td style=\"text-align: right;\">13818</td><td style=\"text-align: right;\">     160000</td><td style=\"text-align: right;\">    1</td><td style=\"text-align: right;\">          2</td><td style=\"text-align: right;\">         1</td><td style=\"text-align: right;\">   60</td><td style=\"text-align: right;\">      0</td><td style=\"text-align: right;\">      0</td><td style=\"text-align: right;\">      0</td><td style=\"text-align: right;\">      0</td><td style=\"text-align: right;\">      0</td><td style=\"text-align: right;\">      0</td><td style=\"text-align: right;\">      18056</td><td style=\"text-align: right;\">      19385</td><td style=\"text-align: right;\">      20093</td><td style=\"text-align: right;\">      20643</td><td style=\"text-align: right;\">      20920</td><td style=\"text-align: right;\">      21336</td><td style=\"text-align: right;\">      1626</td><td style=\"text-align: right;\">      1334</td><td style=\"text-align: right;\">       884</td><td style=\"text-align: right;\">       758</td><td style=\"text-align: right;\">       763</td><td style=\"text-align: right;\">       942</td><td>False                       </td></tr>\n",
       "<tr><td style=\"text-align: right;\"> 8374</td><td style=\"text-align: right;\">      20000</td><td style=\"text-align: right;\">    2</td><td style=\"text-align: right;\">          2</td><td style=\"text-align: right;\">         3</td><td style=\"text-align: right;\">   47</td><td style=\"text-align: right;\">      1</td><td style=\"text-align: right;\">      2</td><td style=\"text-align: right;\">      0</td><td style=\"text-align: right;\">      0</td><td style=\"text-align: right;\">      0</td><td style=\"text-align: right;\">      0</td><td style=\"text-align: right;\">       9325</td><td style=\"text-align: right;\">       8562</td><td style=\"text-align: right;\">       9571</td><td style=\"text-align: right;\">       9912</td><td style=\"text-align: right;\">      10036</td><td style=\"text-align: right;\">      10400</td><td style=\"text-align: right;\">      1000</td><td style=\"text-align: right;\">      1159</td><td style=\"text-align: right;\">       500</td><td style=\"text-align: right;\">       432</td><td style=\"text-align: right;\">       600</td><td style=\"text-align: right;\">         0</td><td>False                       </td></tr>\n",
       "<tr><td style=\"text-align: right;\">15578</td><td style=\"text-align: right;\">     180000</td><td style=\"text-align: right;\">    1</td><td style=\"text-align: right;\">          2</td><td style=\"text-align: right;\">         1</td><td style=\"text-align: right;\">   48</td><td style=\"text-align: right;\">     -1</td><td style=\"text-align: right;\">     -1</td><td style=\"text-align: right;\">     -1</td><td style=\"text-align: right;\">     -1</td><td style=\"text-align: right;\">     -1</td><td style=\"text-align: right;\">     -1</td><td style=\"text-align: right;\">       1294</td><td style=\"text-align: right;\">       1294</td><td style=\"text-align: right;\">       1466</td><td style=\"text-align: right;\">       1294</td><td style=\"text-align: right;\">       2324</td><td style=\"text-align: right;\">        264</td><td style=\"text-align: right;\">      1294</td><td style=\"text-align: right;\">      1466</td><td style=\"text-align: right;\">      1294</td><td style=\"text-align: right;\">      2324</td><td style=\"text-align: right;\">       264</td><td style=\"text-align: right;\">       264</td><td>False                       </td></tr>\n",
       "<tr><td style=\"text-align: right;\">22428</td><td style=\"text-align: right;\">     180000</td><td style=\"text-align: right;\">    2</td><td style=\"text-align: right;\">          2</td><td style=\"text-align: right;\">         1</td><td style=\"text-align: right;\">   34</td><td style=\"text-align: right;\">      0</td><td style=\"text-align: right;\">     -1</td><td style=\"text-align: right;\">     -1</td><td style=\"text-align: right;\">     -1</td><td style=\"text-align: right;\">     -1</td><td style=\"text-align: right;\">     -2</td><td style=\"text-align: right;\">      13954</td><td style=\"text-align: right;\">       5589</td><td style=\"text-align: right;\">       4312</td><td style=\"text-align: right;\">       2490</td><td style=\"text-align: right;\">          0</td><td style=\"text-align: right;\">          0</td><td style=\"text-align: right;\">      5589</td><td style=\"text-align: right;\">      4312</td><td style=\"text-align: right;\">      2490</td><td style=\"text-align: right;\">         0</td><td style=\"text-align: right;\">         0</td><td style=\"text-align: right;\">       150</td><td>False                       </td></tr>\n",
       "</tbody>\n",
       "</table>"
      ],
      "text/plain": [
       "<driverlessai._utils.Table at 0x7ff4c86920a0>"
      ]
     },
     "execution_count": 19,
     "metadata": {},
     "output_type": "execute_result"
    }
   ],
   "source": [
    "test1 = dai.datasets.list()[0]\n",
    "test1.head()"
   ]
  },
  {
   "cell_type": "code",
   "execution_count": 20,
   "metadata": {},
   "outputs": [],
   "source": [
    "del test_tt\n",
    "del test1"
   ]
  },
  {
   "cell_type": "markdown",
   "metadata": {},
   "source": [
    "### Data Recipes\n",
    "\n",
    "It's possible to modify a dataset through a code snippet or recipe.  \n",
    "\n",
    "Preview what a new dataset would look like if code snippet transformation is was applied.  \n",
    "Keep first 3 columns of the original dataset\n",
    "\n",
    "Official Recipe Github location: https://github.com/h2oai/driverlessai-recipes"
   ]
  },
  {
   "cell_type": "code",
   "execution_count": 21,
   "metadata": {},
   "outputs": [
    {
     "name": "stdout",
     "output_type": "stream",
     "text": [
      "Complete\n"
     ]
    },
    {
     "data": {
      "text/html": [
       "<table>\n",
       "<thead>\n",
       "<tr><th style=\"text-align: right;\">  ID</th><th style=\"text-align: right;\">  LIMIT_BAL</th><th style=\"text-align: right;\">  SEX</th></tr>\n",
       "</thead>\n",
       "<tbody>\n",
       "<tr><td style=\"text-align: right;\">   1</td><td style=\"text-align: right;\">      20000</td><td style=\"text-align: right;\">    2</td></tr>\n",
       "<tr><td style=\"text-align: right;\">   2</td><td style=\"text-align: right;\">     120000</td><td style=\"text-align: right;\">    2</td></tr>\n",
       "<tr><td style=\"text-align: right;\">   3</td><td style=\"text-align: right;\">      90000</td><td style=\"text-align: right;\">    2</td></tr>\n",
       "<tr><td style=\"text-align: right;\">   4</td><td style=\"text-align: right;\">      50000</td><td style=\"text-align: right;\">    2</td></tr>\n",
       "<tr><td style=\"text-align: right;\">   5</td><td style=\"text-align: right;\">      50000</td><td style=\"text-align: right;\">    1</td></tr>\n",
       "<tr><td style=\"text-align: right;\">   6</td><td style=\"text-align: right;\">      50000</td><td style=\"text-align: right;\">    1</td></tr>\n",
       "<tr><td style=\"text-align: right;\">   7</td><td style=\"text-align: right;\">     500000</td><td style=\"text-align: right;\">    1</td></tr>\n",
       "<tr><td style=\"text-align: right;\">   8</td><td style=\"text-align: right;\">     100000</td><td style=\"text-align: right;\">    2</td></tr>\n",
       "<tr><td style=\"text-align: right;\">   9</td><td style=\"text-align: right;\">     140000</td><td style=\"text-align: right;\">    2</td></tr>\n",
       "<tr><td style=\"text-align: right;\">  10</td><td style=\"text-align: right;\">      20000</td><td style=\"text-align: right;\">    1</td></tr>\n",
       "</tbody>\n",
       "</table>"
      ],
      "text/plain": [
       "<driverlessai._utils.Table at 0x7ff4c68d73a0>"
      ]
     },
     "execution_count": 21,
     "metadata": {},
     "output_type": "execute_result"
    }
   ],
   "source": [
    "code = \"return X[:, [0,1,2]]\"\n",
    "\n",
    "ds.modify_by_code_preview(code)"
   ]
  },
  {
   "cell_type": "markdown",
   "metadata": {},
   "source": [
    "Apply the transformation to create a new dataset."
   ]
  },
  {
   "cell_type": "code",
   "execution_count": 22,
   "metadata": {},
   "outputs": [
    {
     "name": "stdout",
     "output_type": "stream",
     "text": [
      "Complete                                                         \n"
     ]
    },
    {
     "data": {
      "text/html": [
       "<table>\n",
       "<thead>\n",
       "<tr><th style=\"text-align: right;\">  ID</th><th style=\"text-align: right;\">  LIMIT_BAL</th><th style=\"text-align: right;\">  SEX</th></tr>\n",
       "</thead>\n",
       "<tbody>\n",
       "<tr><td style=\"text-align: right;\">   1</td><td style=\"text-align: right;\">      20000</td><td style=\"text-align: right;\">    2</td></tr>\n",
       "<tr><td style=\"text-align: right;\">   2</td><td style=\"text-align: right;\">     120000</td><td style=\"text-align: right;\">    2</td></tr>\n",
       "<tr><td style=\"text-align: right;\">   3</td><td style=\"text-align: right;\">      90000</td><td style=\"text-align: right;\">    2</td></tr>\n",
       "<tr><td style=\"text-align: right;\">   4</td><td style=\"text-align: right;\">      50000</td><td style=\"text-align: right;\">    2</td></tr>\n",
       "<tr><td style=\"text-align: right;\">   5</td><td style=\"text-align: right;\">      50000</td><td style=\"text-align: right;\">    1</td></tr>\n",
       "</tbody>\n",
       "</table>"
      ],
      "text/plain": [
       "<driverlessai._utils.Table at 0x7ff4c8106af0>"
      ]
     },
     "execution_count": 22,
     "metadata": {},
     "output_type": "execute_result"
    }
   ],
   "source": [
    "new_ds_1 = ds.modify_by_code(code, names=['modify_by_code'])\n",
    "new_ds_1['modify_by_code'].head()"
   ]
  },
  {
   "cell_type": "markdown",
   "metadata": {},
   "source": [
    "Apply a transformation from a recipe file."
   ]
  },
  {
   "cell_type": "code",
   "execution_count": 23,
   "metadata": {},
   "outputs": [
    {
     "name": "stdout",
     "output_type": "stream",
     "text": [
      "\"\"\"\n",
      "This is a data recipe based on live data modification from GUI\n",
      "\"\"\"\n",
      "\n",
      "from h2oaicore.data import CustomData\n",
      "\n",
      "\n",
      "class DataRecipeNapubinu(CustomData):\n",
      "    _display_name = \"Data Recipe Napubinu\"\n",
      "    _description = \"Generated by live code\"\n",
      "\n",
      "    @staticmethod\n",
      "    def create_data(X):\n",
      "        import datatable as dt\n",
      "        X = dt.Frame(X)\n",
      "        return X[:, [0,1,2,]]  # return dt.Frame, pd.DataFrame, np.ndarray or a list or named dict of those\n"
     ]
    }
   ],
   "source": [
    "!cat ./recipes/first_three_col.py"
   ]
  },
  {
   "cell_type": "code",
   "execution_count": 24,
   "metadata": {},
   "outputs": [
    {
     "name": "stdout",
     "output_type": "stream",
     "text": [
      "Complete                                                         \n"
     ]
    },
    {
     "data": {
      "text/html": [
       "<table>\n",
       "<thead>\n",
       "<tr><th style=\"text-align: right;\">  ID</th><th style=\"text-align: right;\">  LIMIT_BAL</th><th style=\"text-align: right;\">  SEX</th></tr>\n",
       "</thead>\n",
       "<tbody>\n",
       "<tr><td style=\"text-align: right;\">   1</td><td style=\"text-align: right;\">      20000</td><td style=\"text-align: right;\">    2</td></tr>\n",
       "<tr><td style=\"text-align: right;\">   2</td><td style=\"text-align: right;\">     120000</td><td style=\"text-align: right;\">    2</td></tr>\n",
       "<tr><td style=\"text-align: right;\">   3</td><td style=\"text-align: right;\">      90000</td><td style=\"text-align: right;\">    2</td></tr>\n",
       "<tr><td style=\"text-align: right;\">   4</td><td style=\"text-align: right;\">      50000</td><td style=\"text-align: right;\">    2</td></tr>\n",
       "<tr><td style=\"text-align: right;\">   5</td><td style=\"text-align: right;\">      50000</td><td style=\"text-align: right;\">    1</td></tr>\n",
       "</tbody>\n",
       "</table>"
      ],
      "text/plain": [
       "<driverlessai._utils.Table at 0x7ff4c8750520>"
      ]
     },
     "execution_count": 24,
     "metadata": {},
     "output_type": "execute_result"
    }
   ],
   "source": [
    "new_ds_2 = ds.modify_by_recipe('./recipes/first_three_col.py', names=['modify_by_recipe_file'])\n",
    "new_ds_2['modify_by_recipe_file'].head()"
   ]
  },
  {
   "cell_type": "markdown",
   "metadata": {},
   "source": [
    "Apply a transformation from a recipe url."
   ]
  },
  {
   "cell_type": "code",
   "execution_count": 25,
   "metadata": {},
   "outputs": [],
   "source": [
    "#new_ds_3 = ds.modify_by_recipe(\n",
    "#    'https://github.com/h2oai/driverlessai-recipes/raw/master/data/GroupAgg.py', \n",
    "#    names=['modify_by_recipe_url']\n",
    "#)\n",
    "#new_ds_3['modify_by_recipe_url'].head()"
   ]
  },
  {
   "cell_type": "markdown",
   "metadata": {},
   "source": [
    "The new datasets are now on the Driverless AI server."
   ]
  },
  {
   "cell_type": "code",
   "execution_count": 26,
   "metadata": {},
   "outputs": [
    {
     "data": {
      "text/plain": [
       "    | Type    | Key                                  | Name\n",
       "----+---------+--------------------------------------+-----------------------\n",
       "  0 | Dataset | 88a6fdfa-30a8-11ee-b104-0242ac110002 | modify_by_recipe_file\n",
       "  1 | Dataset | 86a0746e-30a8-11ee-b104-0242ac110002 | modify_by_code\n",
       "  2 | Dataset | 820799be-30a8-11ee-b104-0242ac110002 | cc_test\n",
       "  3 | Dataset | 8207414e-30a8-11ee-b104-0242ac110002 | cc_train\n",
       "  4 | Dataset | 8052b888-30a8-11ee-b104-0242ac110002 | creditcard_small.csv\n",
       "  5 | Dataset | f7a57df8-da2c-11ed-bbe0-0242ac110002 | CustomerChurn.test"
      ]
     },
     "execution_count": 26,
     "metadata": {},
     "output_type": "execute_result"
    }
   ],
   "source": [
    "dai.datasets.list()[:6]"
   ]
  },
  {
   "cell_type": "markdown",
   "metadata": {},
   "source": [
    "## Experiments"
   ]
  },
  {
   "cell_type": "markdown",
   "metadata": {},
   "source": [
    "Search expert settings using key-word."
   ]
  },
  {
   "cell_type": "code",
   "execution_count": 27,
   "metadata": {
    "scrolled": false
   },
   "outputs": [
    {
     "name": "stdout",
     "output_type": "stream",
     "text": [
      "recipe | default_value: auto\n",
      "max_rows_final_blender | default_value: 1000000\n",
      "min_rows_final_blender | default_value: 10000\n",
      "ensemble_accuracy_switch | default_value: 5\n",
      "num_ensemble_folds | default_value: 4\n",
      "early_stopping | default_value: True\n",
      "nfeatures_max | default_value: -1\n",
      "ngenes_max | default_value: -1\n",
      "nfeatures_min | default_value: -1\n",
      "text_dominated_limit_tuning | default_value: True\n",
      "image_dominated_limit_tuning | default_value: True\n",
      "image_auto_num_final_models | default_value: 0\n",
      "tournament_style | default_value: auto\n",
      "tournament_remove_poor_scores_before_final_model_factor | default_value: 0.3\n",
      "included_individuals | default_value: []\n",
      "num_hyperopt_individuals_final | default_value: -1\n",
      "drop_constant_model_final_ensemble | default_value: True\n",
      "params_tensorflow | default_value: {}\n",
      "min_learning_rate_final | default_value: 0.01\n",
      "max_learning_rate_final | default_value: 0.05\n",
      "fixed_ensemble_level | default_value: -1\n",
      "ensemble_meta_learner | default_value: blender\n",
      "cross_validate_meta_learner | default_value: False\n",
      "validate_meta_learner | default_value: True\n",
      "validate_meta_learner_extra | default_value: False\n",
      "fixed_fold_reps | default_value: 0\n",
      "limit_validation_size | default_value: True\n",
      "max_validation_to_training_size_ratio_for_final_ensemble | default_value: 2.0\n",
      "leaderboard_mode | default_value: baseline\n",
      "fast_approx_do_one_model | default_value: False\n",
      "fast_approx_contribs_do_one_model | default_value: True\n",
      "glm_lambda_search | default_value: auto\n",
      "config_overrides | default_value: \n",
      "final_munging_memory_reduction_factor | default_value: 2\n",
      "blend_in_link_space | default_value: True\n"
     ]
    }
   ],
   "source": [
    "dai.experiments.search_expert_settings('ensemble')"
   ]
  },
  {
   "cell_type": "code",
   "execution_count": 28,
   "metadata": {},
   "outputs": [
    {
     "name": "stdout",
     "output_type": "stream",
     "text": [
      "rolling_test_method | default_value: tta\n",
      "rolling_test_method_max_splits | default_value: 1000\n"
     ]
    }
   ],
   "source": [
    "dai.experiments.search_expert_settings('rolling_test_method')"
   ]
  },
  {
   "cell_type": "markdown",
   "metadata": {},
   "source": [
    "Define the settings dictionary. It will be used to start the experiment.   \n",
    "Setting Accuracy to 10 in order to force long running experiment and demonstrate early stoppage.  \n",
    "We will also limit available models to LightGBM and XGBoost."
   ]
  },
  {
   "cell_type": "code",
   "execution_count": 29,
   "metadata": {},
   "outputs": [],
   "source": [
    "settings = {\n",
    "    'task': 'classification',\n",
    "    'target_column': \"default payment next month\",\n",
    "    'accuracy': 10,\n",
    "    'time': 10,\n",
    "    'interpretability': 6,\n",
    "    'scorer': 'AUCPR',\n",
    "    'feature_brain_level': 0,\n",
    "    'make_python_scoring_pipeline': 'off',\n",
    "    'make_mojo_scoring_pipeline': 'off',\n",
    "    'make_autoreport': False,\n",
    "    'check_leakage': 'off',\n",
    "    'max_nestimators': 100,\n",
    "    'included_models': [\"LightGBM\", \"XGBoostGBM\"],\n",
    "    'fixed_ensemble_level': 0,\n",
    "    'fixed_num_folds': 3,\n",
    "}"
   ]
  },
  {
   "cell_type": "markdown",
   "metadata": {},
   "source": [
    "Look at what the experiment Pre-view given the datasets and the settings."
   ]
  },
  {
   "cell_type": "code",
   "execution_count": 30,
   "metadata": {},
   "outputs": [
    {
     "name": "stdout",
     "output_type": "stream",
     "text": [
      "ACCURACY [10/10]:\n",
      "- Training data size: *16,799 rows, 24 cols*\n",
      "- Feature evolution: *[LightGBM, XGBoostGBM]*, *3-fold CV*\n",
      "- Final pipeline: *One of [LightGBM, XGBoostGBM], single final model, validated with 3-fold CV*\n",
      "\n",
      "TIME [10/10]:\n",
      "- Feature evolution: *8 individuals*, up to *500 iterations*\n",
      "- Early stopping: After *50* iterations of no improvement\n",
      "\n",
      "INTERPRETABILITY [6/10]:\n",
      "- Feature pre-pruning strategy: None\n",
      "- Monotonicity constraints: disabled\n",
      "- Feature engineering search space: [CVCatNumEncode, CVTargetEncode, CatOriginal, Cat, ClusterTE, Frequent, Interactions, NumCatTE, NumToCatTE, NumToCatWoE, OneHotEncoding, Original, WeightOfEvidence]\n",
      "\n",
      "[LightGBM, XGBoostGBM] models to train:\n",
      "- Model and feature tuning: *132*\n",
      "- Feature evolution: *6024*\n",
      "- Final pipeline: *4*\n",
      "- MOJO DISABLED\n",
      "\n",
      "Estimated runtime: *90 minutes*\n",
      "\n",
      "Estimated max CPU memory usage: *1.0GB*\n",
      "Finish/Abort (if not done) in: *90 minutes*/*7 days*\n"
     ]
    }
   ],
   "source": [
    "dai.experiments.preview(\n",
    "    **ds_split,\n",
    "    **settings,\n",
    ")"
   ]
  },
  {
   "cell_type": "markdown",
   "metadata": {},
   "source": [
    "Start an experiment in async mode with our dataset splits and chosen settings."
   ]
  },
  {
   "cell_type": "code",
   "execution_count": 31,
   "metadata": {},
   "outputs": [
    {
     "name": "stdout",
     "output_type": "stream",
     "text": [
      "Experiment launched at: https://34-209-212-180.aquarium-instance.h2o.ai/#/experiment?key=8d98b592-30a8-11ee-b104-0242ac110002\n"
     ]
    }
   ],
   "source": [
    "ex = dai.experiments.create_async(\n",
    "    **ds_split, \n",
    "    **settings\n",
    ")"
   ]
  },
  {
   "cell_type": "markdown",
   "metadata": {},
   "source": [
    "Display some information. "
   ]
  },
  {
   "cell_type": "code",
   "execution_count": 32,
   "metadata": {},
   "outputs": [
    {
     "name": "stdout",
     "output_type": "stream",
     "text": [
      "Name: davupitu\n",
      "Datasets: {'train_dataset': <class 'Dataset'> 8207414e-30a8-11ee-b104-0242ac110002 cc_train, 'validation_dataset': None, 'test_dataset': <class 'Dataset'> 820799be-30a8-11ee-b104-0242ac110002 cc_test}\n",
      "Train Dataset Head:\n"
     ]
    },
    {
     "data": {
      "text/html": [
       "<table>\n",
       "<thead>\n",
       "<tr><th style=\"text-align: right;\">  ID</th><th style=\"text-align: right;\">  LIMIT_BAL</th><th style=\"text-align: right;\">  SEX</th><th style=\"text-align: right;\">  EDUCATION</th><th style=\"text-align: right;\">  MARRIAGE</th><th style=\"text-align: right;\">  AGE</th><th style=\"text-align: right;\">  PAt_0</th><th style=\"text-align: right;\">  PAY_2</th><th style=\"text-align: right;\">  PAY_3</th><th style=\"text-align: right;\">  PAY_4</th><th style=\"text-align: right;\">  PAY_5</th><th style=\"text-align: right;\">  PAY_6</th><th style=\"text-align: right;\">  BILL_AMt1</th><th style=\"text-align: right;\">  BILL_AMT2</th><th style=\"text-align: right;\">  BILL_AMT3</th><th style=\"text-align: right;\">  BILL_AMT4</th><th style=\"text-align: right;\">  BILL_AMT5</th><th style=\"text-align: right;\">  BILL_AMT6</th><th style=\"text-align: right;\">  PAY_AMT1</th><th style=\"text-align: right;\">  PAY_AMT2</th><th style=\"text-align: right;\">  PAY_AMT3</th><th style=\"text-align: right;\">  PAY_AMT4</th><th style=\"text-align: right;\">  PAY_AMT5</th><th style=\"text-align: right;\">  PAY_AMT6</th><th>default payment next month  </th></tr>\n",
       "</thead>\n",
       "<tbody>\n",
       "<tr><td style=\"text-align: right;\">   2</td><td style=\"text-align: right;\">     120000</td><td style=\"text-align: right;\">    2</td><td style=\"text-align: right;\">          2</td><td style=\"text-align: right;\">         2</td><td style=\"text-align: right;\">   26</td><td style=\"text-align: right;\">     -1</td><td style=\"text-align: right;\">      2</td><td style=\"text-align: right;\">      0</td><td style=\"text-align: right;\">      0</td><td style=\"text-align: right;\">      0</td><td style=\"text-align: right;\">      2</td><td style=\"text-align: right;\">       2682</td><td style=\"text-align: right;\">       1725</td><td style=\"text-align: right;\">       2682</td><td style=\"text-align: right;\">       3272</td><td style=\"text-align: right;\">       3455</td><td style=\"text-align: right;\">       3261</td><td style=\"text-align: right;\">         0</td><td style=\"text-align: right;\">      1000</td><td style=\"text-align: right;\">      1000</td><td style=\"text-align: right;\">      1000</td><td style=\"text-align: right;\">         0</td><td style=\"text-align: right;\">      2000</td><td>True                        </td></tr>\n",
       "</tbody>\n",
       "</table>"
      ],
      "text/plain": [
       "<driverlessai._utils.Table at 0x7ff4c86927c0>"
      ]
     },
     "metadata": {},
     "output_type": "display_data"
    },
    {
     "name": "stdout",
     "output_type": "stream",
     "text": [
      "Target: default payment next month\n",
      "Scorer: AUCPR\n",
      "Task: classification\n",
      "Status: Running 0.00% - Update configuration with overrides done.\n",
      "Creation Timestamp: 1690921098.3901393\n",
      "Run Duration: 0.00943136215209961\n",
      "Web Page: https://34-209-212-180.aquarium-instance.h2o.ai/#/experiment?key=8d98b592-30a8-11ee-b104-0242ac110002\n"
     ]
    }
   ],
   "source": [
    "print(\"Name:\", ex.name)\n",
    "print(\"Datasets:\", ex.datasets)\n",
    "print(\"Train Dataset Head:\")\n",
    "display(ex.datasets['train_dataset'].head(1))\n",
    "print(\"Target:\", ex.settings['target_column'])\n",
    "print(\"Scorer:\", ex.metrics()['scorer'])\n",
    "print(\"Task:\", ex.settings['task'])\n",
    "print(\"Status:\", ex.status(verbose=2))\n",
    "print(\"Creation Timestamp:\", ex.creation_timestamp)\n",
    "print(\"Run Duration:\", ex.run_duration)\n",
    "print(\"Web Page:\", ex.gui())"
   ]
  },
  {
   "cell_type": "markdown",
   "metadata": {},
   "source": [
    "List running experiments."
   ]
  },
  {
   "cell_type": "code",
   "execution_count": 33,
   "metadata": {},
   "outputs": [
    {
     "name": "stdout",
     "output_type": "stream",
     "text": [
      "davupitu (8d98b592-30a8-11ee-b104-0242ac110002)\n"
     ]
    },
    {
     "data": {
      "text/plain": [
       "{'scorer': 'AUCPR',\n",
       " 'val_score': None,\n",
       " 'val_score_sd': None,\n",
       " 'val_roc_auc': None,\n",
       " 'val_pr_auc': None,\n",
       " 'test_score': None,\n",
       " 'test_score_sd': None,\n",
       " 'test_roc_auc': None,\n",
       " 'test_pr_auc': None}"
      ]
     },
     "metadata": {},
     "output_type": "display_data"
    }
   ],
   "source": [
    "for e in dai.experiments.list():\n",
    "    if e.is_running():\n",
    "        print(e)\n",
    "        display(e.metrics())"
   ]
  },
  {
   "cell_type": "markdown",
   "metadata": {},
   "source": [
    "Monitor the experiment and finish when validation score > 0.53."
   ]
  },
  {
   "cell_type": "code",
   "execution_count": 34,
   "metadata": {
    "scrolled": true
   },
   "outputs": [
    {
     "name": "stdout",
     "output_type": "stream",
     "text": [
      "Finishing 98.00% - Testing Deployment... - Run Time: 123.17287278175354 - Validation AUCPR: 0.5279 +/- 0.0053\n",
      "\n",
      " Data is slightly imbalanced.\n",
      "Target class fraction: 22.317%\n",
      "Imbalance ratio: 1:3.481\n",
      "\n",
      "\n",
      " Automatically dropping ID column(s) during training: ['ID']. \n",
      "If unexpected, then check config.toml values for drop_id_columns, max_relative_cardinality, and max_absolute_cardinality.\n",
      "\n",
      " Number of tree iterations for tuning and feature evolution models (20) is smaller than iterations for final models (100). \n",
      "If unexpected, change max_nestimators_feature_evolution_factor=0.2 to 1.0 in expert settings.\n",
      "Maximum learning rate for tuning and feature evolution models (0.1) can be larger than learning rate for final models (0.03):\n",
      "If unexpected, change min_learning_rate, max_learning_rate, min_learning_rate_final, max_learning_rate_final in expert settings.\n",
      "Scores shown during tuning and feature evolution may underestimate performance of final pipeline.\n",
      "Please wait for final scores.\n",
      "\n",
      "\n",
      " Final model LightGBMModel model_id 0 fold_id 0 hit maximum trees/iterations of 100\n",
      "Final model LightGBMModel model_id 0 fold_id 1 hit maximum trees/iterations of 100\n",
      "Consider using toml or expert model options to increase the minimum learning rate or increase the maximum number of trees/iterations.\n",
      "\n",
      " Note that sum(Shapley values) == preds(output_margin=True) in margin space, but sum(Shapley values) != logit(preds) due to non-linear math operations in the pipeline. Try disabling RuleFit, TensorFlow, ImbalancedXGBoost, ImbalancedLightGBM and custom models models for if you require it to sum up identically for higher interpretability. The current model is perfectly fine and provides self-consistent Shapley values, but their meaning is slightly more difficult to interpret in the target space.\n",
      "\n",
      " Top Original Variable Importance Shifts between Tuned model and Final model:\n",
      "```\n",
      "Feature  Normalized Gain  Shift in Normalized Gain (Final - Tuned)\n",
      "  PAY_3              0.0                                 -0.444942\n",
      "```\n",
      "\n",
      " \n",
      "            A shift in variable importance means the best genetic algorithm model(s) and final model(s) disagree\n",
      "            more than commonly expected (an absolute shift of 0.3 or more).  This can be because the features\n",
      "            indicated are unstable and poor to generalize with slight changes in the validation scheme.\n",
      "            Model generalization may be improved by dropping features that are highly shifted.\n",
      "            \n",
      "            For single final models: The shift is between last best genetic algorithm model and single final model\n",
      "            For ensemble models: The final model has variable importance blended with its final weights.\n",
      "                                 The best genetic algorithm models (i.e. those used for final model) have variable importance\n",
      "                                 also blended with final model's meta learner weights.\n",
      "                                 The shift of variable importance is computed between these two final blends\n",
      "                                 as final importance minus genetic algorithm importance.\n",
      "                                 See ensemble_features*shift* files in summary zip for full shift information.\n",
      "            \n",
      "\n",
      "2023-08-01 20:20:23,639 C: 18% D:170.8GB M:30.2GB  NODE:LOCAL1      2624   INFO   | Archiving experiment summary to ./tmp/training/h2oai_experiment_8d98b592-30a8-11ee-b104-0242ac110002/h2oai_experiment_summary_8d98b592-30a8-11ee-b104-0242ac110002.zip\n",
      "2023-08-01 20:20:23,962 C: 18% D:170.8GB M:30.2GB  NODE:LOCAL1      2624   INFO   | Archiving logs to ./tmp/training/h2oai_experiment_8d98b592-30a8-11ee-b104-0242ac110002/h2oai_experiment_logs_8d98b592-30a8-11ee-b104-0242ac110002.zip\n",
      "2023-08-01 20:20:23,973 C: 18% D:170.8GB M:30.2GB  NODE:LOCAL1      2624   INFO   | Deleting temporary files\n",
      "\n",
      "Test AUCPR: 0.5295\n"
     ]
    }
   ],
   "source": [
    "import time\n",
    "from IPython.display import clear_output\n",
    "\n",
    "while ex.is_running():\n",
    "    time.sleep(1)\n",
    "    # grab experiment status\n",
    "    status = ex.status(verbose=2)\n",
    "    # grab run duration \n",
    "    duration = ex.run_duration\n",
    "    # grab current metrics\n",
    "    metrics = ex.metrics()   \n",
    "    # grab notifications\n",
    "    notifications = ex.notifications()\n",
    "    # pretty print info\n",
    "    clear_output(wait=True)\n",
    "    print(status, \" - Run Time: \", duration, \" - Validation \", metrics['scorer'], \": \", sep='', end='')\n",
    "    if metrics['val_score'] is not None:\n",
    "        print(round(metrics['val_score'], 4), '+/-', round(metrics['val_score_sd'], 4))\n",
    "        if metrics['val_score'] > 0.53:\n",
    "            ex.finish()\n",
    "    else:\n",
    "        print()\n",
    "    if notifications:\n",
    "        for n in notifications:\n",
    "            print(\"\\n\", n[\"content\"])\n",
    "    print()\n",
    "    ex.log.tail(3)\n",
    "    time.sleep(5)\n",
    "    \n",
    "print(\"\\nTest \", ex.metrics()['scorer'], \": \", round(ex.metrics()['test_score'], 4), sep='')"
   ]
  },
  {
   "cell_type": "markdown",
   "metadata": {},
   "source": [
    "View completed experiment metrics"
   ]
  },
  {
   "cell_type": "code",
   "execution_count": 35,
   "metadata": {},
   "outputs": [
    {
     "name": "stdout",
     "output_type": "stream",
     "text": [
      "\n",
      "Test AUCPR: 0.5295\n"
     ]
    }
   ],
   "source": [
    "print(\"\\nTest \", ex.metrics()['scorer'], \": \", round(ex.metrics()['test_score'], 4), sep='')"
   ]
  },
  {
   "cell_type": "markdown",
   "metadata": {},
   "source": [
    "View variable importance for completed experiment."
   ]
  },
  {
   "cell_type": "code",
   "execution_count": 36,
   "metadata": {
    "scrolled": true
   },
   "outputs": [
    {
     "data": {
      "text/html": [
       "<table>\n",
       "<thead>\n",
       "<tr><th style=\"text-align: right;\">      gain</th><th>interaction  </th><th>description                                                                                                                            </th></tr>\n",
       "</thead>\n",
       "<tbody>\n",
       "<tr><td style=\"text-align: right;\">1         </td><td>7_OHE:PAt_0.5</td><td>One-hot encoding for column(s) [&#x27;PAt_0&#x27;] binned into 11 bins (sorting order - lexical). Bin # 5 with levels [&#x27;2.0&#x27;] [internal:lexical] </td></tr>\n",
       "<tr><td style=\"text-align: right;\">0.349721  </td><td>2_OHE:PAY_2.5</td><td>One-hot encoding for column(s) [&#x27;PAY_2&#x27;] binned into 11 bins (sorting order - lexical). Bin # 5 with levels [&#x27;2.0&#x27;] [internal:lexical] </td></tr>\n",
       "<tr><td style=\"text-align: right;\">0.172756  </td><td>5_OHE:PAY_5.4</td><td>One-hot encoding for column(s) [&#x27;PAY_5&#x27;] binned into 10 bins (sorting order - lexical). Bin # 4 with levels [&#x27;2.0&#x27;] [internal:lexical] </td></tr>\n",
       "<tr><td style=\"text-align: right;\">0.124092  </td><td>17_PAY_AMT2  </td><td>PAY_AMT2 (Original)                                                                                                                    </td></tr>\n",
       "<tr><td style=\"text-align: right;\">0.0860688 </td><td>7_OHE:PAt_0.6</td><td>One-hot encoding for column(s) [&#x27;PAt_0&#x27;] binned into 11 bins (sorting order - lexical). Bin # 6 with levels [&#x27;3.0&#x27;] [internal:lexical] </td></tr>\n",
       "<tr><td style=\"text-align: right;\">0.0659421 </td><td>16_PAY_AMT1  </td><td>PAY_AMT1 (Original)                                                                                                                    </td></tr>\n",
       "<tr><td style=\"text-align: right;\">0.0621113 </td><td>15_LIMIT_BAL </td><td>LIMIT_BAL (Original)                                                                                                                   </td></tr>\n",
       "<tr><td style=\"text-align: right;\">0.0584669 </td><td>18_PAY_AMT3  </td><td>PAY_AMT3 (Original)                                                                                                                    </td></tr>\n",
       "<tr><td style=\"text-align: right;\">0.0319246 </td><td>7_OHE:PAt_0.4</td><td>One-hot encoding for column(s) [&#x27;PAt_0&#x27;] binned into 11 bins (sorting order - lexical). Bin # 4 with levels [&#x27;1.0&#x27;] [internal:lexical] </td></tr>\n",
       "<tr><td style=\"text-align: right;\">0.0275835 </td><td>14_BILL_AMt1 </td><td>BILL_AMt1 (Original)                                                                                                                   </td></tr>\n",
       "<tr><td style=\"text-align: right;\">0.0259118 </td><td>19_PAY_AMT4  </td><td>PAY_AMT4 (Original)                                                                                                                    </td></tr>\n",
       "<tr><td style=\"text-align: right;\">0.0194666 </td><td>7_OHE:PAt_0.3</td><td>One-hot encoding for column(s) [&#x27;PAt_0&#x27;] binned into 11 bins (sorting order - lexical). Bin # 3 with levels [&#x27;0.0&#x27;] [internal:lexical] </td></tr>\n",
       "<tr><td style=\"text-align: right;\">0.0072567 </td><td>21_PAY_AMT6  </td><td>PAY_AMT6 (Original)                                                                                                                    </td></tr>\n",
       "<tr><td style=\"text-align: right;\">0.00348274</td><td>7_OHE:PAt_0.2</td><td>One-hot encoding for column(s) [&#x27;PAt_0&#x27;] binned into 11 bins (sorting order - lexical). Bin # 2 with levels [&#x27;-2.0&#x27;] [internal:lexical]</td></tr>\n",
       "<tr><td style=\"text-align: right;\">0.00247022</td><td>9_BILL_AMT2  </td><td>BILL_AMT2 (Original)                                                                                                                   </td></tr>\n",
       "</tbody>\n",
       "</table>"
      ],
      "text/plain": [
       "<driverlessai._utils.Table at 0x7ff4c8780340>"
      ]
     },
     "execution_count": 36,
     "metadata": {},
     "output_type": "execute_result"
    }
   ],
   "source": [
    "ex.variable_importance()"
   ]
  },
  {
   "cell_type": "code",
   "execution_count": 37,
   "metadata": {},
   "outputs": [
    {
     "data": {
      "text/plain": [
       "{'scorer': 'AUCPR',\n",
       " 'val_score': 0.5278693661337515,\n",
       " 'val_score_sd': 0.005286134487174329,\n",
       " 'val_roc_auc': 0.761491554836079,\n",
       " 'val_pr_auc': 0.5278693661337515,\n",
       " 'test_score': 0.5295384804743956,\n",
       " 'test_score_sd': 0.01225873542165657,\n",
       " 'test_roc_auc': 0.7653244059471658,\n",
       " 'test_pr_auc': 0.5295384804743956}"
      ]
     },
     "execution_count": 37,
     "metadata": {},
     "output_type": "execute_result"
    }
   ],
   "source": [
    "ex.metrics()"
   ]
  },
  {
   "cell_type": "markdown",
   "metadata": {},
   "source": [
    "Manage experiment artifacts."
   ]
  },
  {
   "cell_type": "code",
   "execution_count": 38,
   "metadata": {},
   "outputs": [
    {
     "data": {
      "text/plain": [
       "['logs', 'summary', 'test_predictions', 'train_predictions']"
      ]
     },
     "execution_count": 38,
     "metadata": {},
     "output_type": "execute_result"
    }
   ],
   "source": [
    "ex.artifacts.list()"
   ]
  },
  {
   "cell_type": "code",
   "execution_count": 39,
   "metadata": {
    "scrolled": true
   },
   "outputs": [
    {
     "name": "stdout",
     "output_type": "stream",
     "text": [
      "Help on ExperimentArtifacts in module driverlessai._experiments object:\n",
      "\n",
      "class ExperimentArtifacts(builtins.object)\n",
      " |  ExperimentArtifacts(experiment: 'Experiment') -> None\n",
      " |  \n",
      " |  Interact with files created by an experiment on the Driverless AI server.\n",
      " |  \n",
      " |  Methods defined here:\n",
      " |  \n",
      " |  __init__(self, experiment: 'Experiment') -> None\n",
      " |      Initialize self.  See help(type(self)) for accurate signature.\n",
      " |  \n",
      " |  create(self, artifact: str) -> None\n",
      " |      (Re)build certain artifacts, if possible.\n",
      " |      \n",
      " |      (re)buildable artifacts:\n",
      " |      \n",
      " |      - ``'autodoc'``\n",
      " |      - ``'mojo_pipeline'``\n",
      " |      - ``'python_pipeline'``\n",
      " |      \n",
      " |      Args:\n",
      " |          artifact: name of artifact to (re)build\n",
      " |  \n",
      " |  download(self, only: Union[str, List[str]] = None, dst_dir: str = '.', file_system: Union[ForwardRef('fsspec.spec.AbstractFileSystem'), NoneType] = None, include_columns: Union[List[str], NoneType] = None, overwrite: bool = False) -> Dict[str, str]\n",
      " |      Download experiment artifacts from the Driverless AI server. Returns\n",
      " |      a dictionary of relative paths for the downloaded artifacts.\n",
      " |      \n",
      " |      Args:\n",
      " |          only: specify specific artifacts to download, use\n",
      " |              ``experiment.artifacts.list()`` to see the available\n",
      " |              artifacts on the Driverless AI server\n",
      " |          dst_dir: directory where experiment artifacts will be saved\n",
      " |          file_system: FSSPEC based file system to download to,\n",
      " |              instead of local file system\n",
      " |          include_columns: list of dataset columns to append to prediction csvs\n",
      " |          overwrite: overwrite existing files\n",
      " |  \n",
      " |  export(self, only: Union[str, List[str], NoneType] = None, include_columns: Union[List[str], NoneType] = None, **kwargs: Any) -> Dict[str, str]\n",
      " |      Export experiment artifacts from the Driverless AI server. Returns\n",
      " |      a dictionary of relative paths for the exported artifacts.\n",
      " |      \n",
      " |      Args:\n",
      " |          only: specify specific artifacts to export, use\n",
      " |              ``ex.artifacts.list()`` to see the available\n",
      " |              artifacts on the Driverless AI server\n",
      " |          include_columns: list of dataset columns to append to prediction csvs\n",
      " |      \n",
      " |      .. note::\n",
      " |          Export location is configured on the Driverless AI server.\n",
      " |  \n",
      " |  list(self) -> List[str]\n",
      " |      List of experiment artifacts that exist on the Driverless AI server.\n",
      " |  \n",
      " |  ----------------------------------------------------------------------\n",
      " |  Readonly properties defined here:\n",
      " |  \n",
      " |  file_paths\n",
      " |      Paths to artifact files on the server.\n",
      " |  \n",
      " |  ----------------------------------------------------------------------\n",
      " |  Data descriptors defined here:\n",
      " |  \n",
      " |  __dict__\n",
      " |      dictionary for instance variables (if defined)\n",
      " |  \n",
      " |  __weakref__\n",
      " |      list of weak references to the object (if defined)\n",
      "\n"
     ]
    }
   ],
   "source": [
    "help(ex.artifacts)"
   ]
  },
  {
   "cell_type": "markdown",
   "metadata": {},
   "source": [
    "Create AutoDoc for the experiment and download AutoDoc and the experiment summary file."
   ]
  },
  {
   "cell_type": "code",
   "execution_count": 40,
   "metadata": {
    "scrolled": false
   },
   "outputs": [
    {
     "name": "stdout",
     "output_type": "stream",
     "text": [
      "Generating autodoc...\n"
     ]
    }
   ],
   "source": [
    "ex.artifacts.create('autodoc')"
   ]
  },
  {
   "cell_type": "code",
   "execution_count": 41,
   "metadata": {},
   "outputs": [
    {
     "name": "stdout",
     "output_type": "stream",
     "text": [
      "Available artifacts: ['autodoc', 'logs', 'summary', 'test_predictions', 'train_predictions']\n",
      "Downloaded 'artifacts/report.docx'\n",
      "Downloaded 'artifacts/h2oai_experiment_summary_8d98b592-30a8-11ee-b104-0242ac110002.zip'\n",
      "Downloaded 'artifacts/test_preds.csv'\n"
     ]
    },
    {
     "data": {
      "text/html": [
       "<div>\n",
       "<style scoped>\n",
       "    .dataframe tbody tr th:only-of-type {\n",
       "        vertical-align: middle;\n",
       "    }\n",
       "\n",
       "    .dataframe tbody tr th {\n",
       "        vertical-align: top;\n",
       "    }\n",
       "\n",
       "    .dataframe thead th {\n",
       "        text-align: right;\n",
       "    }\n",
       "</style>\n",
       "<table border=\"1\" class=\"dataframe\">\n",
       "  <thead>\n",
       "    <tr style=\"text-align: right;\">\n",
       "      <th></th>\n",
       "      <th>default payment next month.0</th>\n",
       "      <th>default payment next month.1</th>\n",
       "      <th>default payment next month.predicted(th=0.26929)</th>\n",
       "    </tr>\n",
       "  </thead>\n",
       "  <tbody>\n",
       "    <tr>\n",
       "      <th>0</th>\n",
       "      <td>0.656023</td>\n",
       "      <td>0.343977</td>\n",
       "      <td>1</td>\n",
       "    </tr>\n",
       "    <tr>\n",
       "      <th>1</th>\n",
       "      <td>0.869641</td>\n",
       "      <td>0.130359</td>\n",
       "      <td>0</td>\n",
       "    </tr>\n",
       "    <tr>\n",
       "      <th>2</th>\n",
       "      <td>0.643470</td>\n",
       "      <td>0.356530</td>\n",
       "      <td>1</td>\n",
       "    </tr>\n",
       "    <tr>\n",
       "      <th>3</th>\n",
       "      <td>0.850476</td>\n",
       "      <td>0.149524</td>\n",
       "      <td>0</td>\n",
       "    </tr>\n",
       "    <tr>\n",
       "      <th>4</th>\n",
       "      <td>0.883235</td>\n",
       "      <td>0.116765</td>\n",
       "      <td>0</td>\n",
       "    </tr>\n",
       "  </tbody>\n",
       "</table>\n",
       "</div>"
      ],
      "text/plain": [
       "   default payment next month.0  default payment next month.1  \\\n",
       "0                      0.656023                      0.343977   \n",
       "1                      0.869641                      0.130359   \n",
       "2                      0.643470                      0.356530   \n",
       "3                      0.850476                      0.149524   \n",
       "4                      0.883235                      0.116765   \n",
       "\n",
       "   default payment next month.predicted(th=0.26929)  \n",
       "0                                                 1  \n",
       "1                                                 0  \n",
       "2                                                 1  \n",
       "3                                                 0  \n",
       "4                                                 0  "
      ]
     },
     "execution_count": 41,
     "metadata": {},
     "output_type": "execute_result"
    }
   ],
   "source": [
    "print(\"Available artifacts:\", ex.artifacts.list())\n",
    "artifacts = ex.artifacts.download(['autodoc', 'summary','test_predictions'],\n",
    "                                  dst_dir='./artifacts',\n",
    "                                  overwrite=True)\n",
    "pd.read_csv(artifacts['test_predictions']).head()"
   ]
  },
  {
   "cell_type": "code",
   "execution_count": 42,
   "metadata": {},
   "outputs": [
    {
     "data": {
      "text/plain": [
       "    | Type       | Key                                  | Name\n",
       "----+------------+--------------------------------------+--------------\n",
       "  0 | Experiment | 8d98b592-30a8-11ee-b104-0242ac110002 | davupitu\n",
       "  1 | Experiment | 8abfb07a-da34-11ed-bbe0-0242ac110002 | Downsample\n",
       "  2 | Experiment | 10a90338-da2d-11ed-bbe0-0242ac110002 | Default\n",
       "  3 | Experiment | 8fcf7c6a-da0e-11ed-bbe0-0242ac110002 | PyTorch NLP\n",
       "  4 | Experiment | 250392da-da0a-11ed-bbe0-0242ac110002 | Baseline NLP"
      ]
     },
     "execution_count": 42,
     "metadata": {},
     "output_type": "execute_result"
    }
   ],
   "source": [
    "dai.experiments.list()[0:5]"
   ]
  },
  {
   "cell_type": "markdown",
   "metadata": {},
   "source": [
    "**Get existing experiment by key**"
   ]
  },
  {
   "cell_type": "code",
   "execution_count": 43,
   "metadata": {},
   "outputs": [],
   "source": [
    "ex_baseline_nlp = dai.experiments.get(\"250392da-da0a-11ed-bbe0-0242ac110002\")"
   ]
  },
  {
   "cell_type": "code",
   "execution_count": 44,
   "metadata": {},
   "outputs": [
    {
     "data": {
      "text/plain": [
       "['autodoc',\n",
       " 'logs',\n",
       " 'mojo_pipeline',\n",
       " 'python_pipeline',\n",
       " 'summary',\n",
       " 'test_predictions',\n",
       " 'train_predictions']"
      ]
     },
     "execution_count": 44,
     "metadata": {},
     "output_type": "execute_result"
    }
   ],
   "source": [
    "ex_baseline_nlp.artifacts.list()"
   ]
  },
  {
   "cell_type": "markdown",
   "metadata": {},
   "source": [
    "Get experiment settings.   \n",
    "Useful to start experiment with the similar settings. "
   ]
  },
  {
   "cell_type": "code",
   "execution_count": 45,
   "metadata": {},
   "outputs": [
    {
     "name": "stdout",
     "output_type": "stream",
     "text": [
      "0 task classification\n",
      "1 target_column PositiveReview\n",
      "2 drop_columns ['UserId', 'ProductId', 'Id', 'Score', 'HelpfulnessDenominator', 'ProfileName', 'HelpfulnessNumerator', 'Time']\n",
      "3 accuracy 5\n",
      "4 time 3\n",
      "5 interpretability 7\n",
      "6 scorer AUC\n",
      "7 max_runtime_minutes 135\n",
      "8 min_num_cores_per_gpu 2\n",
      "9 cv_in_cv_overconfidence_protection on\n"
     ]
    }
   ],
   "source": [
    "baseline_nlp_settings = ex_baseline_nlp.settings\n",
    "for ind, (key,val) in enumerate(baseline_nlp_settings.items()):\n",
    "    if ind <10: print(ind, key, val)"
   ]
  },
  {
   "cell_type": "markdown",
   "metadata": {},
   "source": [
    "View experiment summary."
   ]
  },
  {
   "cell_type": "code",
   "execution_count": 46,
   "metadata": {},
   "outputs": [
    {
     "name": "stdout",
     "output_type": "stream",
     "text": [
      "Status: Complete\n",
      "Experiment: davupitu (8d98b592-30a8-11ee-b104-0242ac110002)\n",
      "  Version: 1.10.5, 2023-08-01 20:20, Py client\n",
      "  Settings: 10/10/6, seed=222569145, GPUs disabled\n",
      "  Train data: cc_train (16799, 25)\n",
      "  Validation data: N/A\n",
      "  Test data: [Test] (7200, 24)\n",
      "  Target column: default payment next month (binary, 22.317% target class)\n",
      "System specs: Docker/Linux, 31 GB, 8 CPU cores, 0/0 GPU\n",
      "  Max memory usage: 0.83 GB, 0 GB GPU, 0 GB MOJO\n",
      "Recipe: AutoDL (7 iterations, 8 individuals)\n",
      "  Validation scheme: stratified, 3 internal holdouts (3-fold CV)\n",
      "  Feature engineering: 0 features scored (15 selected)\n",
      "Timing:\n",
      "  Data preparation: 9.53 secs\n",
      "  Shift/Leakage detection: 1.05 secs\n",
      "  Model and feature tuning: 51.78 secs (22 of 132 models trained)\n",
      "  Feature evolution: 0.50 secs (0 of 6024 model trained)\n",
      "  Final pipeline training: 33.00 secs (4 models trained)\n",
      "  Python / MOJO scorer building: 0.00 secs / 24.61 secs\n",
      "Validation score: AUCPR = 0 (constant preds of -1.247)\n",
      "Validation score: AUCPR = 0.5278432 +/- 0.01310857 (baseline)\n",
      "Validation score: AUCPR = 0.5278694 +/- 0.005286134 (final pipeline)\n",
      "Test score:       AUCPR = 0.5295385 +/- 0.01225874 (final pipeline)\n"
     ]
    }
   ],
   "source": [
    "ex.summary()"
   ]
  },
  {
   "cell_type": "markdown",
   "metadata": {},
   "source": [
    "**Make predictions**."
   ]
  },
  {
   "cell_type": "code",
   "execution_count": 47,
   "metadata": {},
   "outputs": [
    {
     "name": "stdout",
     "output_type": "stream",
     "text": [
      "Complete\n",
      "Downloaded 'artifacts/8d98b592-30a8-11ee-b104-0242ac110002_preds_84aca679.csv'\n"
     ]
    },
    {
     "data": {
      "text/html": [
       "<div>\n",
       "<style scoped>\n",
       "    .dataframe tbody tr th:only-of-type {\n",
       "        vertical-align: middle;\n",
       "    }\n",
       "\n",
       "    .dataframe tbody tr th {\n",
       "        vertical-align: top;\n",
       "    }\n",
       "\n",
       "    .dataframe thead th {\n",
       "        text-align: right;\n",
       "    }\n",
       "</style>\n",
       "<table border=\"1\" class=\"dataframe\">\n",
       "  <thead>\n",
       "    <tr style=\"text-align: right;\">\n",
       "      <th></th>\n",
       "      <th>ID</th>\n",
       "      <th>LIMIT_BAL</th>\n",
       "      <th>SEX</th>\n",
       "      <th>EDUCATION</th>\n",
       "      <th>MARRIAGE</th>\n",
       "      <th>AGE</th>\n",
       "      <th>PAt_0</th>\n",
       "      <th>PAY_2</th>\n",
       "      <th>PAY_3</th>\n",
       "      <th>PAY_4</th>\n",
       "      <th>...</th>\n",
       "      <th>BILL_AMT6</th>\n",
       "      <th>PAY_AMT1</th>\n",
       "      <th>PAY_AMT2</th>\n",
       "      <th>PAY_AMT3</th>\n",
       "      <th>PAY_AMT4</th>\n",
       "      <th>PAY_AMT5</th>\n",
       "      <th>PAY_AMT6</th>\n",
       "      <th>default payment next month</th>\n",
       "      <th>default payment next month.0</th>\n",
       "      <th>default payment next month.1</th>\n",
       "    </tr>\n",
       "  </thead>\n",
       "  <tbody>\n",
       "    <tr>\n",
       "      <th>0</th>\n",
       "      <td>8508</td>\n",
       "      <td>20000</td>\n",
       "      <td>2</td>\n",
       "      <td>2</td>\n",
       "      <td>2</td>\n",
       "      <td>53</td>\n",
       "      <td>4</td>\n",
       "      <td>4</td>\n",
       "      <td>3</td>\n",
       "      <td>3</td>\n",
       "      <td>...</td>\n",
       "      <td>19812</td>\n",
       "      <td>0</td>\n",
       "      <td>1300</td>\n",
       "      <td>1170</td>\n",
       "      <td>0</td>\n",
       "      <td>1600</td>\n",
       "      <td>0</td>\n",
       "      <td>0</td>\n",
       "      <td>0.656023</td>\n",
       "      <td>0.343977</td>\n",
       "    </tr>\n",
       "    <tr>\n",
       "      <th>1</th>\n",
       "      <td>13818</td>\n",
       "      <td>160000</td>\n",
       "      <td>1</td>\n",
       "      <td>2</td>\n",
       "      <td>1</td>\n",
       "      <td>60</td>\n",
       "      <td>0</td>\n",
       "      <td>0</td>\n",
       "      <td>0</td>\n",
       "      <td>0</td>\n",
       "      <td>...</td>\n",
       "      <td>21336</td>\n",
       "      <td>1626</td>\n",
       "      <td>1334</td>\n",
       "      <td>884</td>\n",
       "      <td>758</td>\n",
       "      <td>763</td>\n",
       "      <td>942</td>\n",
       "      <td>0</td>\n",
       "      <td>0.869641</td>\n",
       "      <td>0.130359</td>\n",
       "    </tr>\n",
       "    <tr>\n",
       "      <th>2</th>\n",
       "      <td>8374</td>\n",
       "      <td>20000</td>\n",
       "      <td>2</td>\n",
       "      <td>2</td>\n",
       "      <td>3</td>\n",
       "      <td>47</td>\n",
       "      <td>1</td>\n",
       "      <td>2</td>\n",
       "      <td>0</td>\n",
       "      <td>0</td>\n",
       "      <td>...</td>\n",
       "      <td>10400</td>\n",
       "      <td>1000</td>\n",
       "      <td>1159</td>\n",
       "      <td>500</td>\n",
       "      <td>432</td>\n",
       "      <td>600</td>\n",
       "      <td>0</td>\n",
       "      <td>0</td>\n",
       "      <td>0.643470</td>\n",
       "      <td>0.356530</td>\n",
       "    </tr>\n",
       "    <tr>\n",
       "      <th>3</th>\n",
       "      <td>15578</td>\n",
       "      <td>180000</td>\n",
       "      <td>1</td>\n",
       "      <td>2</td>\n",
       "      <td>1</td>\n",
       "      <td>48</td>\n",
       "      <td>-1</td>\n",
       "      <td>-1</td>\n",
       "      <td>-1</td>\n",
       "      <td>-1</td>\n",
       "      <td>...</td>\n",
       "      <td>264</td>\n",
       "      <td>1294</td>\n",
       "      <td>1466</td>\n",
       "      <td>1294</td>\n",
       "      <td>2324</td>\n",
       "      <td>264</td>\n",
       "      <td>264</td>\n",
       "      <td>0</td>\n",
       "      <td>0.850476</td>\n",
       "      <td>0.149524</td>\n",
       "    </tr>\n",
       "    <tr>\n",
       "      <th>4</th>\n",
       "      <td>22428</td>\n",
       "      <td>180000</td>\n",
       "      <td>2</td>\n",
       "      <td>2</td>\n",
       "      <td>1</td>\n",
       "      <td>34</td>\n",
       "      <td>0</td>\n",
       "      <td>-1</td>\n",
       "      <td>-1</td>\n",
       "      <td>-1</td>\n",
       "      <td>...</td>\n",
       "      <td>0</td>\n",
       "      <td>5589</td>\n",
       "      <td>4312</td>\n",
       "      <td>2490</td>\n",
       "      <td>0</td>\n",
       "      <td>0</td>\n",
       "      <td>150</td>\n",
       "      <td>0</td>\n",
       "      <td>0.883235</td>\n",
       "      <td>0.116765</td>\n",
       "    </tr>\n",
       "  </tbody>\n",
       "</table>\n",
       "<p>5 rows × 27 columns</p>\n",
       "</div>"
      ],
      "text/plain": [
       "      ID  LIMIT_BAL  SEX  EDUCATION  MARRIAGE  AGE  PAt_0  PAY_2  PAY_3  \\\n",
       "0   8508      20000    2          2         2   53      4      4      3   \n",
       "1  13818     160000    1          2         1   60      0      0      0   \n",
       "2   8374      20000    2          2         3   47      1      2      0   \n",
       "3  15578     180000    1          2         1   48     -1     -1     -1   \n",
       "4  22428     180000    2          2         1   34      0     -1     -1   \n",
       "\n",
       "   PAY_4  ...  BILL_AMT6  PAY_AMT1  PAY_AMT2  PAY_AMT3  PAY_AMT4  PAY_AMT5  \\\n",
       "0      3  ...      19812         0      1300      1170         0      1600   \n",
       "1      0  ...      21336      1626      1334       884       758       763   \n",
       "2      0  ...      10400      1000      1159       500       432       600   \n",
       "3     -1  ...        264      1294      1466      1294      2324       264   \n",
       "4     -1  ...          0      5589      4312      2490         0         0   \n",
       "\n",
       "   PAY_AMT6  default payment next month  default payment next month.0  \\\n",
       "0         0                           0                      0.656023   \n",
       "1       942                           0                      0.869641   \n",
       "2         0                           0                      0.643470   \n",
       "3       264                           0                      0.850476   \n",
       "4       150                           0                      0.883235   \n",
       "\n",
       "   default payment next month.1  \n",
       "0                      0.343977  \n",
       "1                      0.130359  \n",
       "2                      0.356530  \n",
       "3                      0.149524  \n",
       "4                      0.116765  \n",
       "\n",
       "[5 rows x 27 columns]"
      ]
     },
     "execution_count": 47,
     "metadata": {},
     "output_type": "execute_result"
    }
   ],
   "source": [
    "p = ex.predict(\n",
    "    ds_split['test_dataset'], \n",
    "    include_columns=ds_split['test_dataset'].columns,\n",
    "    enable_mojo=False\n",
    ")\n",
    "pd.read_csv(p.download(dst_dir='./artifacts')).head()"
   ]
  },
  {
   "cell_type": "markdown",
   "metadata": {},
   "source": [
    "Calculate Shapley values for Original features"
   ]
  },
  {
   "cell_type": "code",
   "execution_count": 48,
   "metadata": {},
   "outputs": [
    {
     "name": "stdout",
     "output_type": "stream",
     "text": [
      "Complete\n",
      "Downloaded '8d98b592-30a8-11ee-b104-0242ac110002_preds_fff56bf5.csv'\n"
     ]
    },
    {
     "data": {
      "text/html": [
       "<div>\n",
       "<style scoped>\n",
       "    .dataframe tbody tr th:only-of-type {\n",
       "        vertical-align: middle;\n",
       "    }\n",
       "\n",
       "    .dataframe tbody tr th {\n",
       "        vertical-align: top;\n",
       "    }\n",
       "\n",
       "    .dataframe thead th {\n",
       "        text-align: right;\n",
       "    }\n",
       "</style>\n",
       "<table border=\"1\" class=\"dataframe\">\n",
       "  <thead>\n",
       "    <tr style=\"text-align: right;\">\n",
       "      <th></th>\n",
       "      <th>default payment next month.0</th>\n",
       "      <th>default payment next month.1</th>\n",
       "      <th>contrib_AGE</th>\n",
       "      <th>contrib_BILL_AMT2</th>\n",
       "      <th>contrib_BILL_AMT3</th>\n",
       "      <th>contrib_BILL_AMT4</th>\n",
       "      <th>contrib_BILL_AMT5</th>\n",
       "      <th>contrib_BILL_AMT6</th>\n",
       "      <th>contrib_BILL_AMt1</th>\n",
       "      <th>contrib_EDUCATION</th>\n",
       "      <th>...</th>\n",
       "      <th>contrib_PAY_6</th>\n",
       "      <th>contrib_PAY_AMT1</th>\n",
       "      <th>contrib_PAY_AMT2</th>\n",
       "      <th>contrib_PAY_AMT3</th>\n",
       "      <th>contrib_PAY_AMT4</th>\n",
       "      <th>contrib_PAY_AMT5</th>\n",
       "      <th>contrib_PAY_AMT6</th>\n",
       "      <th>contrib_PAt_0</th>\n",
       "      <th>contrib_SEX</th>\n",
       "      <th>contrib_bias</th>\n",
       "    </tr>\n",
       "  </thead>\n",
       "  <tbody>\n",
       "    <tr>\n",
       "      <th>0</th>\n",
       "      <td>0.669573</td>\n",
       "      <td>0.330427</td>\n",
       "      <td>0.0</td>\n",
       "      <td>-0.000911</td>\n",
       "      <td>0.0</td>\n",
       "      <td>0.0</td>\n",
       "      <td>0.0</td>\n",
       "      <td>0.0</td>\n",
       "      <td>-0.006887</td>\n",
       "      <td>0.0</td>\n",
       "      <td>...</td>\n",
       "      <td>0.0</td>\n",
       "      <td>0.148405</td>\n",
       "      <td>0.089687</td>\n",
       "      <td>-0.038416</td>\n",
       "      <td>0.001716</td>\n",
       "      <td>0.0</td>\n",
       "      <td>-0.005975</td>\n",
       "      <td>-0.114310</td>\n",
       "      <td>0.0</td>\n",
       "      <td>-1.386639</td>\n",
       "    </tr>\n",
       "    <tr>\n",
       "      <th>1</th>\n",
       "      <td>0.836617</td>\n",
       "      <td>0.163383</td>\n",
       "      <td>0.0</td>\n",
       "      <td>0.000756</td>\n",
       "      <td>0.0</td>\n",
       "      <td>0.0</td>\n",
       "      <td>0.0</td>\n",
       "      <td>0.0</td>\n",
       "      <td>-0.009164</td>\n",
       "      <td>0.0</td>\n",
       "      <td>...</td>\n",
       "      <td>0.0</td>\n",
       "      <td>-0.049478</td>\n",
       "      <td>-0.053282</td>\n",
       "      <td>-0.041875</td>\n",
       "      <td>-0.005939</td>\n",
       "      <td>0.0</td>\n",
       "      <td>-0.005975</td>\n",
       "      <td>-0.060593</td>\n",
       "      <td>0.0</td>\n",
       "      <td>-1.386639</td>\n",
       "    </tr>\n",
       "    <tr>\n",
       "      <th>2</th>\n",
       "      <td>0.660804</td>\n",
       "      <td>0.339196</td>\n",
       "      <td>0.0</td>\n",
       "      <td>0.000756</td>\n",
       "      <td>0.0</td>\n",
       "      <td>0.0</td>\n",
       "      <td>0.0</td>\n",
       "      <td>0.0</td>\n",
       "      <td>-0.009206</td>\n",
       "      <td>0.0</td>\n",
       "      <td>...</td>\n",
       "      <td>0.0</td>\n",
       "      <td>-0.046143</td>\n",
       "      <td>-0.042950</td>\n",
       "      <td>-0.035260</td>\n",
       "      <td>0.012508</td>\n",
       "      <td>0.0</td>\n",
       "      <td>0.012126</td>\n",
       "      <td>0.854431</td>\n",
       "      <td>0.0</td>\n",
       "      <td>-1.386639</td>\n",
       "    </tr>\n",
       "    <tr>\n",
       "      <th>3</th>\n",
       "      <td>0.821736</td>\n",
       "      <td>0.178264</td>\n",
       "      <td>0.0</td>\n",
       "      <td>0.006223</td>\n",
       "      <td>0.0</td>\n",
       "      <td>0.0</td>\n",
       "      <td>0.0</td>\n",
       "      <td>0.0</td>\n",
       "      <td>-0.021002</td>\n",
       "      <td>0.0</td>\n",
       "      <td>...</td>\n",
       "      <td>0.0</td>\n",
       "      <td>-0.054734</td>\n",
       "      <td>0.231547</td>\n",
       "      <td>0.043113</td>\n",
       "      <td>0.005334</td>\n",
       "      <td>0.0</td>\n",
       "      <td>-0.005975</td>\n",
       "      <td>-0.140515</td>\n",
       "      <td>0.0</td>\n",
       "      <td>-1.386639</td>\n",
       "    </tr>\n",
       "    <tr>\n",
       "      <th>4</th>\n",
       "      <td>0.752320</td>\n",
       "      <td>0.247680</td>\n",
       "      <td>0.0</td>\n",
       "      <td>-0.002624</td>\n",
       "      <td>0.0</td>\n",
       "      <td>0.0</td>\n",
       "      <td>0.0</td>\n",
       "      <td>0.0</td>\n",
       "      <td>0.010020</td>\n",
       "      <td>0.0</td>\n",
       "      <td>...</td>\n",
       "      <td>0.0</td>\n",
       "      <td>0.134703</td>\n",
       "      <td>0.216618</td>\n",
       "      <td>0.138330</td>\n",
       "      <td>-0.077954</td>\n",
       "      <td>0.0</td>\n",
       "      <td>0.012126</td>\n",
       "      <td>-0.140496</td>\n",
       "      <td>0.0</td>\n",
       "      <td>-1.386639</td>\n",
       "    </tr>\n",
       "  </tbody>\n",
       "</table>\n",
       "<p>5 rows × 27 columns</p>\n",
       "</div>"
      ],
      "text/plain": [
       "   default payment next month.0  default payment next month.1  contrib_AGE  \\\n",
       "0                      0.669573                      0.330427          0.0   \n",
       "1                      0.836617                      0.163383          0.0   \n",
       "2                      0.660804                      0.339196          0.0   \n",
       "3                      0.821736                      0.178264          0.0   \n",
       "4                      0.752320                      0.247680          0.0   \n",
       "\n",
       "   contrib_BILL_AMT2  contrib_BILL_AMT3  contrib_BILL_AMT4  contrib_BILL_AMT5  \\\n",
       "0          -0.000911                0.0                0.0                0.0   \n",
       "1           0.000756                0.0                0.0                0.0   \n",
       "2           0.000756                0.0                0.0                0.0   \n",
       "3           0.006223                0.0                0.0                0.0   \n",
       "4          -0.002624                0.0                0.0                0.0   \n",
       "\n",
       "   contrib_BILL_AMT6  contrib_BILL_AMt1  contrib_EDUCATION  ...  \\\n",
       "0                0.0          -0.006887                0.0  ...   \n",
       "1                0.0          -0.009164                0.0  ...   \n",
       "2                0.0          -0.009206                0.0  ...   \n",
       "3                0.0          -0.021002                0.0  ...   \n",
       "4                0.0           0.010020                0.0  ...   \n",
       "\n",
       "   contrib_PAY_6  contrib_PAY_AMT1  contrib_PAY_AMT2  contrib_PAY_AMT3  \\\n",
       "0            0.0          0.148405          0.089687         -0.038416   \n",
       "1            0.0         -0.049478         -0.053282         -0.041875   \n",
       "2            0.0         -0.046143         -0.042950         -0.035260   \n",
       "3            0.0         -0.054734          0.231547          0.043113   \n",
       "4            0.0          0.134703          0.216618          0.138330   \n",
       "\n",
       "   contrib_PAY_AMT4  contrib_PAY_AMT5  contrib_PAY_AMT6  contrib_PAt_0  \\\n",
       "0          0.001716               0.0         -0.005975      -0.114310   \n",
       "1         -0.005939               0.0         -0.005975      -0.060593   \n",
       "2          0.012508               0.0          0.012126       0.854431   \n",
       "3          0.005334               0.0         -0.005975      -0.140515   \n",
       "4         -0.077954               0.0          0.012126      -0.140496   \n",
       "\n",
       "   contrib_SEX  contrib_bias  \n",
       "0          0.0     -1.386639  \n",
       "1          0.0     -1.386639  \n",
       "2          0.0     -1.386639  \n",
       "3          0.0     -1.386639  \n",
       "4          0.0     -1.386639  \n",
       "\n",
       "[5 rows x 27 columns]"
      ]
     },
     "execution_count": 48,
     "metadata": {},
     "output_type": "execute_result"
    }
   ],
   "source": [
    "p = ex.predict(\n",
    "    ex.datasets['train_dataset'], \n",
    "    include_shap_values_for_original_features=True\n",
    ")\n",
    "pd.read_csv(p.download()).head()"
   ]
  },
  {
   "cell_type": "markdown",
   "metadata": {},
   "source": [
    "Bring predictions from DAI server into local Pandas dataframe "
   ]
  },
  {
   "cell_type": "code",
   "execution_count": 49,
   "metadata": {
    "scrolled": true
   },
   "outputs": [
    {
     "data": {
      "text/html": [
       "<div>\n",
       "<style scoped>\n",
       "    .dataframe tbody tr th:only-of-type {\n",
       "        vertical-align: middle;\n",
       "    }\n",
       "\n",
       "    .dataframe tbody tr th {\n",
       "        vertical-align: top;\n",
       "    }\n",
       "\n",
       "    .dataframe thead th {\n",
       "        text-align: right;\n",
       "    }\n",
       "</style>\n",
       "<table border=\"1\" class=\"dataframe\">\n",
       "  <thead>\n",
       "    <tr style=\"text-align: right;\">\n",
       "      <th></th>\n",
       "      <th>default payment next month.0</th>\n",
       "      <th>default payment next month.1</th>\n",
       "      <th>contrib_AGE</th>\n",
       "      <th>contrib_BILL_AMT2</th>\n",
       "      <th>contrib_BILL_AMT3</th>\n",
       "      <th>contrib_BILL_AMT4</th>\n",
       "      <th>contrib_BILL_AMT5</th>\n",
       "      <th>contrib_BILL_AMT6</th>\n",
       "      <th>contrib_BILL_AMt1</th>\n",
       "      <th>contrib_EDUCATION</th>\n",
       "      <th>...</th>\n",
       "      <th>contrib_PAY_6</th>\n",
       "      <th>contrib_PAY_AMT1</th>\n",
       "      <th>contrib_PAY_AMT2</th>\n",
       "      <th>contrib_PAY_AMT3</th>\n",
       "      <th>contrib_PAY_AMT4</th>\n",
       "      <th>contrib_PAY_AMT5</th>\n",
       "      <th>contrib_PAY_AMT6</th>\n",
       "      <th>contrib_PAt_0</th>\n",
       "      <th>contrib_SEX</th>\n",
       "      <th>contrib_bias</th>\n",
       "    </tr>\n",
       "  </thead>\n",
       "  <tbody>\n",
       "    <tr>\n",
       "      <th>0</th>\n",
       "      <td>0.669573</td>\n",
       "      <td>0.330427</td>\n",
       "      <td>0.0</td>\n",
       "      <td>-0.000911</td>\n",
       "      <td>0.0</td>\n",
       "      <td>0.0</td>\n",
       "      <td>0.0</td>\n",
       "      <td>0.0</td>\n",
       "      <td>-0.006887</td>\n",
       "      <td>0.0</td>\n",
       "      <td>...</td>\n",
       "      <td>0.0</td>\n",
       "      <td>0.148405</td>\n",
       "      <td>0.089687</td>\n",
       "      <td>-0.038416</td>\n",
       "      <td>0.001716</td>\n",
       "      <td>0.0</td>\n",
       "      <td>-0.005975</td>\n",
       "      <td>-0.114310</td>\n",
       "      <td>0.0</td>\n",
       "      <td>-1.386639</td>\n",
       "    </tr>\n",
       "    <tr>\n",
       "      <th>1</th>\n",
       "      <td>0.836617</td>\n",
       "      <td>0.163383</td>\n",
       "      <td>0.0</td>\n",
       "      <td>0.000756</td>\n",
       "      <td>0.0</td>\n",
       "      <td>0.0</td>\n",
       "      <td>0.0</td>\n",
       "      <td>0.0</td>\n",
       "      <td>-0.009164</td>\n",
       "      <td>0.0</td>\n",
       "      <td>...</td>\n",
       "      <td>0.0</td>\n",
       "      <td>-0.049478</td>\n",
       "      <td>-0.053282</td>\n",
       "      <td>-0.041875</td>\n",
       "      <td>-0.005939</td>\n",
       "      <td>0.0</td>\n",
       "      <td>-0.005975</td>\n",
       "      <td>-0.060593</td>\n",
       "      <td>0.0</td>\n",
       "      <td>-1.386639</td>\n",
       "    </tr>\n",
       "    <tr>\n",
       "      <th>2</th>\n",
       "      <td>0.660804</td>\n",
       "      <td>0.339196</td>\n",
       "      <td>0.0</td>\n",
       "      <td>0.000756</td>\n",
       "      <td>0.0</td>\n",
       "      <td>0.0</td>\n",
       "      <td>0.0</td>\n",
       "      <td>0.0</td>\n",
       "      <td>-0.009206</td>\n",
       "      <td>0.0</td>\n",
       "      <td>...</td>\n",
       "      <td>0.0</td>\n",
       "      <td>-0.046143</td>\n",
       "      <td>-0.042950</td>\n",
       "      <td>-0.035260</td>\n",
       "      <td>0.012508</td>\n",
       "      <td>0.0</td>\n",
       "      <td>0.012126</td>\n",
       "      <td>0.854431</td>\n",
       "      <td>0.0</td>\n",
       "      <td>-1.386639</td>\n",
       "    </tr>\n",
       "    <tr>\n",
       "      <th>3</th>\n",
       "      <td>0.821736</td>\n",
       "      <td>0.178264</td>\n",
       "      <td>0.0</td>\n",
       "      <td>0.006223</td>\n",
       "      <td>0.0</td>\n",
       "      <td>0.0</td>\n",
       "      <td>0.0</td>\n",
       "      <td>0.0</td>\n",
       "      <td>-0.021002</td>\n",
       "      <td>0.0</td>\n",
       "      <td>...</td>\n",
       "      <td>0.0</td>\n",
       "      <td>-0.054734</td>\n",
       "      <td>0.231547</td>\n",
       "      <td>0.043113</td>\n",
       "      <td>0.005334</td>\n",
       "      <td>0.0</td>\n",
       "      <td>-0.005975</td>\n",
       "      <td>-0.140515</td>\n",
       "      <td>0.0</td>\n",
       "      <td>-1.386639</td>\n",
       "    </tr>\n",
       "    <tr>\n",
       "      <th>4</th>\n",
       "      <td>0.752320</td>\n",
       "      <td>0.247680</td>\n",
       "      <td>0.0</td>\n",
       "      <td>-0.002624</td>\n",
       "      <td>0.0</td>\n",
       "      <td>0.0</td>\n",
       "      <td>0.0</td>\n",
       "      <td>0.0</td>\n",
       "      <td>0.010020</td>\n",
       "      <td>0.0</td>\n",
       "      <td>...</td>\n",
       "      <td>0.0</td>\n",
       "      <td>0.134703</td>\n",
       "      <td>0.216618</td>\n",
       "      <td>0.138330</td>\n",
       "      <td>-0.077954</td>\n",
       "      <td>0.0</td>\n",
       "      <td>0.012126</td>\n",
       "      <td>-0.140496</td>\n",
       "      <td>0.0</td>\n",
       "      <td>-1.386639</td>\n",
       "    </tr>\n",
       "  </tbody>\n",
       "</table>\n",
       "<p>5 rows × 27 columns</p>\n",
       "</div>"
      ],
      "text/plain": [
       "   default payment next month.0  default payment next month.1  contrib_AGE  \\\n",
       "0                      0.669573                      0.330427          0.0   \n",
       "1                      0.836617                      0.163383          0.0   \n",
       "2                      0.660804                      0.339196          0.0   \n",
       "3                      0.821736                      0.178264          0.0   \n",
       "4                      0.752320                      0.247680          0.0   \n",
       "\n",
       "   contrib_BILL_AMT2  contrib_BILL_AMT3  contrib_BILL_AMT4  contrib_BILL_AMT5  \\\n",
       "0          -0.000911                0.0                0.0                0.0   \n",
       "1           0.000756                0.0                0.0                0.0   \n",
       "2           0.000756                0.0                0.0                0.0   \n",
       "3           0.006223                0.0                0.0                0.0   \n",
       "4          -0.002624                0.0                0.0                0.0   \n",
       "\n",
       "   contrib_BILL_AMT6  contrib_BILL_AMt1  contrib_EDUCATION  ...  \\\n",
       "0                0.0          -0.006887                0.0  ...   \n",
       "1                0.0          -0.009164                0.0  ...   \n",
       "2                0.0          -0.009206                0.0  ...   \n",
       "3                0.0          -0.021002                0.0  ...   \n",
       "4                0.0           0.010020                0.0  ...   \n",
       "\n",
       "   contrib_PAY_6  contrib_PAY_AMT1  contrib_PAY_AMT2  contrib_PAY_AMT3  \\\n",
       "0            0.0          0.148405          0.089687         -0.038416   \n",
       "1            0.0         -0.049478         -0.053282         -0.041875   \n",
       "2            0.0         -0.046143         -0.042950         -0.035260   \n",
       "3            0.0         -0.054734          0.231547          0.043113   \n",
       "4            0.0          0.134703          0.216618          0.138330   \n",
       "\n",
       "   contrib_PAY_AMT4  contrib_PAY_AMT5  contrib_PAY_AMT6  contrib_PAt_0  \\\n",
       "0          0.001716               0.0         -0.005975      -0.114310   \n",
       "1         -0.005939               0.0         -0.005975      -0.060593   \n",
       "2          0.012508               0.0          0.012126       0.854431   \n",
       "3          0.005334               0.0         -0.005975      -0.140515   \n",
       "4         -0.077954               0.0          0.012126      -0.140496   \n",
       "\n",
       "   contrib_SEX  contrib_bias  \n",
       "0          0.0     -1.386639  \n",
       "1          0.0     -1.386639  \n",
       "2          0.0     -1.386639  \n",
       "3          0.0     -1.386639  \n",
       "4          0.0     -1.386639  \n",
       "\n",
       "[5 rows x 27 columns]"
      ]
     },
     "execution_count": 49,
     "metadata": {},
     "output_type": "execute_result"
    }
   ],
   "source": [
    "p.to_pandas().head()"
   ]
  },
  {
   "cell_type": "markdown",
   "metadata": {},
   "source": [
    "## Recipes"
   ]
  },
  {
   "cell_type": "markdown",
   "metadata": {},
   "source": [
    "Displaying first 10 models including models from custom recipe."
   ]
  },
  {
   "cell_type": "code",
   "execution_count": 50,
   "metadata": {},
   "outputs": [
    {
     "data": {
      "text/plain": [
       "    | Type        | Key   | Name\n",
       "----+-------------+-------+------------------------\n",
       "  0 | ModelRecipe |       | Aggregator\n",
       "  1 | ModelRecipe |       | Constant\n",
       "  2 | ModelRecipe |       | DecisionTree\n",
       "  3 | ModelRecipe |       | FTRL\n",
       "  4 | ModelRecipe |       | GLM\n",
       "  5 | ModelRecipe |       | ImageAuto\n",
       "  6 | ModelRecipe |       | ImbalancedLightGBM\n",
       "  7 | ModelRecipe |       | ImbalancedXGBoostGBM\n",
       "  8 | ModelRecipe |       | IsolationForestAnomaly\n",
       "  9 | ModelRecipe |       | KMeans"
      ]
     },
     "execution_count": 50,
     "metadata": {},
     "output_type": "execute_result"
    }
   ],
   "source": [
    "dai.recipes.models.list()[0:10]"
   ]
  },
  {
   "cell_type": "code",
   "execution_count": 51,
   "metadata": {},
   "outputs": [],
   "source": [
    "m = dai.recipes.models.list()[0]"
   ]
  },
  {
   "cell_type": "code",
   "execution_count": 52,
   "metadata": {},
   "outputs": [
    {
     "name": "stdout",
     "output_type": "stream",
     "text": [
      "Name: Aggregator\n",
      "Custom Recipe: False\n",
      "Unsupervised Recipe: True\n"
     ]
    }
   ],
   "source": [
    "print(\"Name:\", m.name)\n",
    "print(\"Custom Recipe:\", m.is_custom)\n",
    "print(\"Unsupervised Recipe:\", m.is_unsupervised)"
   ]
  },
  {
   "cell_type": "code",
   "execution_count": 53,
   "metadata": {},
   "outputs": [],
   "source": [
    "s = dai.recipes.scorers.list()[0]"
   ]
  },
  {
   "cell_type": "code",
   "execution_count": 54,
   "metadata": {},
   "outputs": [
    {
     "name": "stdout",
     "output_type": "stream",
     "text": [
      "Name: ACCURACY\n",
      "Custom Recipe: False\n"
     ]
    }
   ],
   "source": [
    "print(\"Name:\", s.name)\n",
    "print(\"Custom Recipe:\", s.is_custom)"
   ]
  },
  {
   "cell_type": "code",
   "execution_count": 55,
   "metadata": {},
   "outputs": [
    {
     "data": {
      "text/plain": [
       "    | Type              | Key   | Name\n",
       "----+-------------------+-------+--------------------------------------------------------------------------------------------\n",
       "  0 | TransformerRecipe |       | AggregatorTransformer\n",
       "  1 | TransformerRecipe |       | AutovizRecommendationsTransformer\n",
       "  2 | TransformerRecipe |       | BERTTransformer\n",
       "  3 | TransformerRecipe |       | BinnerTransformer\n",
       "  4 | TransformerRecipe |       | CVCatNumEncodeTransformer\n",
       "  5 | TransformerRecipe |       | CVTECUMLTransformer\n",
       "  6 | TransformerRecipe |       | CVTargetEncodeTransformer\n",
       "  7 | TransformerRecipe |       | CatOriginalTransformer\n",
       "  8 | TransformerRecipe |       | CatTransformer\n",
       "  9 | TransformerRecipe |       | ClusterDistCUMLDaskTransformer\n",
       " 10 | TransformerRecipe |       | ClusterDistCUMLTransformer\n",
       " 11 | TransformerRecipe |       | ClusterDistTransformer\n",
       " 12 | TransformerRecipe |       | ClusterIdAllNumTransformer\n",
       " 13 | TransformerRecipe |       | ClusterTETransformer\n",
       " 14 | TransformerRecipe |       | DBSCANCUMLDaskTransformer\n",
       " 15 | TransformerRecipe |       | DBSCANCUMLTransformer\n",
       " 16 | TransformerRecipe |       | DateOriginalTransformer\n",
       " 17 | TransformerRecipe |       | DateTimeDiffTransformer\n",
       " 18 | TransformerRecipe |       | DateTimeOriginalTransformer\n",
       " 19 | TransformerRecipe |       | DatesTransformer\n",
       " 20 | TransformerRecipe |       | EwmaLagsTransformer\n",
       " 21 | TransformerRecipe |       | FrequentTransformer\n",
       " 22 | TransformerRecipe |       | ImageOriginalTransformer\n",
       " 23 | TransformerRecipe |       | ImageVectorizerTransformer\n",
       " 24 | TransformerRecipe |       | InteractionsTransformer\n",
       " 25 | TransformerRecipe |       | IsHolidayTransformer\n",
       " 26 | TransformerRecipe |       | IsolationForestAnomalyAllNumericTransformer\n",
       " 27 | TransformerRecipe |       | IsolationForestAnomalyNumCatAllColsTransformer\n",
       " 28 | TransformerRecipe |       | IsolationForestAnomalyNumCatTransformer\n",
       " 29 | TransformerRecipe |       | IsolationForestAnomalyNumericTransformer\n",
       " 30 | TransformerRecipe |       | LagsAggregatesTransformer\n",
       " 31 | TransformerRecipe |       | LagsInteractionTransformer\n",
       " 32 | TransformerRecipe |       | LagsTransformer\n",
       " 33 | TransformerRecipe |       | LexiLabelEncoderTransformer\n",
       " 34 | TransformerRecipe |       | MeanTargetTransformer\n",
       " 35 | TransformerRecipe |       | NumCatTETransformer\n",
       " 36 | TransformerRecipe |       | NumToCatTETransformer\n",
       " 37 | TransformerRecipe |       | NumToCatWoEMonotonicTransformer\n",
       " 38 | TransformerRecipe |       | NumToCatWoETransformer\n",
       " 39 | TransformerRecipe |       | OneHotEncodingLinearTransformer\n",
       " 40 | TransformerRecipe |       | OneHotEncodingTransformer\n",
       " 41 | TransformerRecipe |       | OneHotEncodingUnsupervisedTransformer\n",
       " 42 | TransformerRecipe |       | OriginalTransformer\n",
       " 43 | TransformerRecipe |       | RobustScalerTransformer\n",
       " 44 | TransformerRecipe |       | StandardScalerTransformer\n",
       " 45 | TransformerRecipe |       | StringConcatTransformer\n",
       " 46 | TransformerRecipe |       | TSNECUMLTransformer\n",
       " 47 | TransformerRecipe |       | TextBiGRUTransformer\n",
       " 48 | TransformerRecipe |       | TextCNNTransformer\n",
       " 49 | TransformerRecipe |       | TextCharCNNTransformer\n",
       " 50 | TransformerRecipe |       | TextLinModelTransformer\n",
       " 51 | TransformerRecipe |       | TextOriginalTransformer\n",
       " 52 | TransformerRecipe |       | TextTransformer\n",
       " 53 | TransformerRecipe |       | TimeSeriesTargetEncSimpleTransformer\n",
       " 54 | TransformerRecipe |       | TimeSeriesTargetEncTransformer\n",
       " 55 | TransformerRecipe |       | TruncSVDAllNumTransformer\n",
       " 56 | TransformerRecipe |       | TruncSVDCUMLDaskTransformer\n",
       " 57 | TransformerRecipe |       | TruncSVDCUMLTransformer\n",
       " 58 | TransformerRecipe |       | TruncSVDNumTransformer\n",
       " 59 | TransformerRecipe |       | UMAPCUMLDaskTransformer\n",
       " 60 | TransformerRecipe |       | UMAPCUMLTransformer\n",
       " 61 | TransformerRecipe |       | WeightOfEvidenceTransformer\n",
       " 62 | TransformerRecipe |       | CountMissingNumericsPerRowTransformer|count_missing_values_transformer_a2e835ff_content.py\n",
       " 63 | TransformerRecipe |       | CountMissingPerRowTransformer|count_missing_values_transformer_a2e835ff_content.py\n",
       " 64 | TransformerRecipe |       | CountMissingStringsPerRowTransformer|count_missing_values_transformer_a2e835ff_content.py\n",
       " 65 | TransformerRecipe |       | FlagMissingTransformer|missing_flag_transformer_ef12d5cb_content.py"
      ]
     },
     "execution_count": 55,
     "metadata": {},
     "output_type": "execute_result"
    }
   ],
   "source": [
    "dai.recipes.transformers.list()"
   ]
  },
  {
   "cell_type": "code",
   "execution_count": 56,
   "metadata": {},
   "outputs": [],
   "source": [
    "t = dai.recipes.transformers.list()[62]"
   ]
  },
  {
   "cell_type": "code",
   "execution_count": 57,
   "metadata": {},
   "outputs": [
    {
     "name": "stdout",
     "output_type": "stream",
     "text": [
      "Name: CountMissingNumericsPerRowTransformer|count_missing_values_transformer_a2e835ff_content.py\n",
      "Custom Recipe: True\n"
     ]
    }
   ],
   "source": [
    "print(\"Name:\", t.name)\n",
    "print(\"Custom Recipe:\", t.is_custom)"
   ]
  },
  {
   "cell_type": "markdown",
   "metadata": {},
   "source": [
    "### Writing example Transformer recipe"
   ]
  },
  {
   "cell_type": "markdown",
   "metadata": {},
   "source": [
    "Official Github repo: https://github.com/h2oai/driverlessai-recipes\n",
    "\n",
    "Frequently asked questions on writing an recipe: https://github.com/h2oai/driverlessai-recipes/blob/master/FAQ.md#references\n",
    "\n",
    "Writing Example Transformer step-by-step: https://github.com/h2oai/driverlessai-recipes/tree/master/how_to_write_a_recipe\n"
   ]
  },
  {
   "cell_type": "markdown",
   "metadata": {},
   "source": [
    "#### What is a transformer recipe? \n",
    "A transformer (or feature) recipe is a collection of programmatic steps, the same steps that a data scientist would write as code to build a column transformation.  The recipe makes it possible to engineer the transformer in training and in production.\n",
    "The transformer recipe, and recipes in general, provides a data scientist the power to enhance the strengths of DriverlessAI with custom recipes. These custom recipes would bring in nuanced knowledge about certain domains - i.e. financial crimes, cybersecurity, anomaly detection. etc. It also provides the ability to extend DriverlessAI to solve custom solutions for time-series. "
   ]
  },
  {
   "cell_type": "markdown",
   "metadata": {},
   "source": [
    "#### How to write a simple DAI recipe? \n",
    "The structure of a recipe that works with DriverlessAI is quite straight forward.\n",
    "\n",
    "1. DriverlessAI provides a `CustomTransformer` Base class that needs to be extended for one to write a recipe. The `CustomTransformer` class provides one the ability to add a customized transformation function. In the following example we are going to create a transformer that will transform a column with the `log10` of the same column. The new column, which is transformed by `log10` will be returned to DriverlessAI as a new column that will be used for modeling. \n",
    "\n",
    "```{python eval=FALSE}\n",
    "class ExampleLogTransformer(CustomTransformer):\n",
    "\n",
    "```\n",
    "The `ExampleLogTransformer` is the class name of the transformer that is being newly created. And in the parenthesis the `CustomTransformer` is being extended. \n",
    "\n",
    "2. In the next step, one needs to populate the type of problem the custom transformer is solving:\n",
    "   a. Are you solving a regression problem? \n",
    "   b. Are you solving a classification problem that is binary?\n",
    "   c. Are you solving a classification problem that is multiclass? \n",
    "   \n",
    "Depending on what kind of outcome the custom transformer is solving, each one of the above needs to be enabled or disabled. And the following example will show you how this can be done\n",
    "\n",
    "```{python eval=FALSE}\n",
    "class ExampleLogTransformer(CustomTransformer):\n",
    "\t_regression = True\n",
    "\t_binary = True\n",
    "\t_multiclass = True\n",
    "```\n",
    "In the above example we are building a `log10` transformer, and this transformer is application, for a regression, binary, or a multiclass problem. Therefore we set all of those as `True`.\n",
    "\n",
    "\n",
    "3. In the next step, we tackle four more settings of a transformer. They are as follows:\n",
    "   a. Output Type - What is the output type of this transformer?\n",
    "   b. Reproducibility - Is this a reproducible transformer? Meaning is this transformer deterministic, and deterministic if you can set the seed?\n",
    "   c. Model inclusion/exclusion  - Here we describe the type of modeling that uniquely fits, or does not fit the transformer, respectively. \n",
    "   4. Custom package requirements - Does this transformer require any custom packages. \n",
    "      \n",
    "\n",
    "```{python eval=FALSE}\n",
    "class ExampleLogTransformer(CustomTransformer):\n",
    "\t_regression = True\n",
    "\t_binary = True\n",
    "\t_multiclass = True\n",
    "\t_numeric_output = True\n",
    "\t_is_reproducible = True\n",
    "\t_excluded_model_classes = ['tensorflow']\n",
    "\t_modules_needed_by_name = [\"custom_package==1.0.0\"]\n",
    "```\n",
    "In the above example we have set the `_numeric_output` to be `True` as our output is numeric. We have set the `_is_reproducible` to be `True` advicing DriverlessAI that in case the user asks for a reproducible model then this model is actually capable of producing a reproducible result. As an example, we have excluded `tensorflow` using `_excluded_model_classes`. Now, in case, you would want the transformer to only run on a specific kind of model, example - `catboost`, then you can use `_included_model_classes=['CatBoostModel']` instead of `_excluded_model_classes`. Merely, as an example we have also included `custom_package` version `1.0.0` as a package required for this transformation. \n",
    "\n",
    "4. In the following section we will discussion about DriverlessAI's ability to check the custom recipe. When the following function is enabled DriverlessAI has the ability to check the workings of the transformer using a synthetic dataset. If this is disabled then DriverlessAI will ingest the recipe but ignore the check. \n",
    "\n",
    "```{python eval=FALSE}\n",
    "class ExampleLogTransformer(CustomTransformer):\n",
    "\t_regression = True\n",
    "\t_binary = True\n",
    "\t_multiclass = True\n",
    "\t_numeric_output = True\n",
    "\t_is_reproducible = True\n",
    "\t_excluded_model_classes = ['tensorflow']\n",
    "\t_modules_needed_by_name = [\"custom_package==1.0.0\"]\n",
    "\n",
    "\t@staticmethod\n",
    "\tdef do_acceptance_test():\n",
    "\treturn True\n",
    "```\n",
    "In this example we enable the acceptance test by returning `True` for the `do_acceptance_test` function\n",
    "\n",
    "5. In the following example we set the parameters for the type of column that we require as input, the minimum and the maximum number of columns that we need to be able to provide an output, along with the relative importance of the transformer. \n",
    "\n",
    "The column type  or `col_type` can take nine different column data types, and they are as follows:\n",
    "\n",
    "\ta. \"all\"         - all column types\n",
    "\tb. \"any\"         - any column types\n",
    "\tc. \"numeric\"     - numeric int/float column\n",
    "\td. \"categorical\" - string/int/float column considered a categorical for feature engineering\n",
    "\te. \"numcat\"      - allow both numeric or categorical\n",
    "\tf. \"datetime\"    - string or int column with raw datetime such as '%Y/%m/%d %H:%M:%S' or '%Y%m%d%H%M'\n",
    "\tg. \"date\"        - string or int column with raw date such as '%Y/%m/%d' or '%Y%m%d'\n",
    "\th. \"text\"        - string column containing text (and hence not treated as categorical)\n",
    "\ti. \"time_column\" - the time column specified at the start of the experiment (unmodified)\n",
    "\n",
    "Please note that if `col_type` is set to `col_type=all` then all the columns in the dataframe are provided to this transformer, no selection of columns will occur. \n",
    "\n",
    "The `min_cols` and `max_cols` either take numbers/integers or take string parameters as `all` and `any`. The `all` and `any` should coincide with the same `col_type`, respectively. \n",
    "\n",
    "The `relative_importance` takes a positive value. If this value is more than `1` then the transformer is likely to be used more often than other transformers in the specific experiment. If it less than `1` then it is less likely to be used than other transformers in the specific experiment. If it is set to `1` then it is equally likely to be used as other transformers in the specific experiment, provided other transformers are also set to relative importance `1`.\n",
    "i , which will over, or under representation. Default value is `1`, value greater than `1` is over representation and under `1` is under representation. \n",
    "\n",
    "```{python eval=FALSE}\n",
    "class ExampleLogTransformer(CustomTransformer):\n",
    "\t_regression = True\n",
    "\t_binary = True\n",
    "\t_multiclass = True\n",
    "\t_numeric_output = True\n",
    "\t_is_reproducible = True\n",
    "\t_excluded_model_classes = ['tensorflow']\n",
    "\t_modules_needed_by_name = [\"custom_package==1.0.0\"]\n",
    "\n",
    "\t@staticmethod\n",
    "\tdef do_acceptance_test():\n",
    "\treturn True\n",
    "\n",
    "\t@staticmethod\n",
    "\tdef get_default_properties():\n",
    "\treturn dict(col_type = \"numeric\", min_cols = 1, max_cols = 1, relative_importance = 1)\n",
    "```\n",
    "\n",
    "In the above example, as we are dealing with a numeric column (recall, that we are calculating the log10 of a given column) we set the `col_type` to `numeric`. We set the `min_cols` and `max_cols` to `1` as we need only one column, and the `relative_importance` to `1`.\n",
    "\n",
    "6. The custom transformer function has two fundamental functions that are required to make a transformer. They are:\n",
    "   a. `fit_transform` This function is used to fit the transformation on the training dataset, and returns the output column. \n",
    "   b. `transform` This function is used to transform the testing or production dataset, and is always applied after the `fit_transform`\n",
    "\n",
    "\n",
    "```{python eval=FALSE}\n",
    "from h2oaicore.systemutils import segfault, loggerinfo, main_logger\n",
    "from h2oaicore.transformer_utils import CustomTransformer\n",
    "import datatable as dt\n",
    "import numpy as np\n",
    "import pandas as pd\n",
    "import logging\n",
    "\n",
    "from h2oaicore.systemutils import config\n",
    "from h2oaicore.systemutils import make_experiment_logger, loggerinfo, loggerwarning\n",
    "\n",
    "class ExampleLogTransformer(CustomTransformer):\n",
    "    _regression = True\n",
    "    _binary = True\n",
    "    _multiclass = True\n",
    "    _numeric_output = True\n",
    "    _is_reproducible = True\n",
    "    _excluded_model_classes = ['tensorflow']\n",
    "    _modules_needed_by_name = [\"custom_lib==0.27.7\"] \n",
    "\n",
    "    @staticmethod\n",
    "    def do_acceptance_test():\n",
    "        return True\n",
    "\n",
    "\n",
    "    @staticmethod\n",
    "    def get_default_properties():\n",
    "        return dict(col_type = \"numeric\", min_cols = 1, max_cols = 1, relative_importance = 1)\n",
    "\n",
    "\n",
    "    def fit_transform(self, X: dt.Frame, y: np.array = None):\n",
    "        X_pandas = X.to_pandas()\n",
    "        X_p_log = np.log10(X_pandas)\n",
    "        \n",
    "        return X_p_log\n",
    "\n",
    "\n",
    "    def transform(self, X: dt.Frame, y: np.array = None):\n",
    "        X_pandas = X.to_pandas()\n",
    "        X_p_log = np.log10(X_pandas)\n",
    "        \n",
    "        return X_p_log\n",
    "```\n",
    "In the above example, we compose the `fit_transform` and `transform` for training and testing data, respectively. In the `fit_transform` the response variable `y` is available. Here our dataframe is named `X`. Now `X` will be transformed to pandas frame by using the `to_pandas()` function. Further, a `log10` of the column will be applied and returned. The `to_pandas()` function is described here for ease of understanding.  "
   ]
  },
  {
   "cell_type": "markdown",
   "metadata": {},
   "source": [
    "#### Add debugging and error handling\n",
    "\n",
    "To simplify recipe development and to enable recipe debugging, we will add code to print messages and report errors to DAI experiment log."
   ]
  },
  {
   "cell_type": "markdown",
   "metadata": {},
   "source": [
    "```python\n",
    "from h2oaicore.systemutils import print_debug\n",
    "import logging\n",
    "from h2oaicore.systemutils import config\n",
    "from h2oaicore.systemutils import make_experiment_logger, loggerinfo, loggerwarning\n",
    "\n",
    "\n",
    "from h2oaicore.transformer_utils import CustomTransformer\n",
    "import datatable as dt\n",
    "import numpy as np\n",
    "import pandas as pd\n",
    "import logging\n",
    "\n",
    "from h2oaicore.systemutils import config\n",
    "from h2oaicore.systemutils import make_experiment_logger, loggerinfo, loggerwarning\n",
    "\n",
    "class ExampleLogTransformer(CustomTransformer):\n",
    "    _regression = True\n",
    "    _binary = True\n",
    "    _multiclass = True\n",
    "    _numeric_output = True\n",
    "    _is_reproducible = True\n",
    "    _excluded_model_classes = ['tensorflow']\n",
    "    _modules_needed_by_name = [\"lifelines==0.27.7\"] # Not really needed, added as demo\n",
    "\n",
    "    @staticmethod\n",
    "    def do_acceptance_test():\n",
    "        return True\n",
    "\n",
    "    @property\n",
    "    def logger(self):\n",
    "        from h2oaicore import application_context\n",
    "        from h2oaicore.systemutils import exp_dir\n",
    "        # Don't assign to self, not picklable\n",
    "        return make_experiment_logger(experiment_id=application_context.context.experiment_id, tmp_dir=None,\n",
    "                                      experiment_tmp_dir=exp_dir())\n",
    "\n",
    "    @staticmethod\n",
    "    def get_default_properties():\n",
    "        return dict(col_type = \"numeric\", min_cols = 1, max_cols = 1, relative_importance = 1)\n",
    "\n",
    "    def fit_transform(self, X: dt.Frame, y: np.array = None):\n",
    "        logger = self.logger\n",
    "        loggerinfo(logger, \"Start Example Transformer fit_transform .....\")\n",
    "        try:\n",
    "            X_pandas = X.to_pandas()\n",
    "            X_p_log = np.log10(X_pandas)\n",
    "        except Exception as e:\n",
    "            '''Print error message into DAI log file'''\n",
    "            loggerinfo(logger, 'Error during Example transformer fit_transform. Exception raised: %s' % str(e))\n",
    "            raise\n",
    "        return X_p_log\n",
    "\n",
    "\n",
    "    def transform(self, X: dt.Frame, y: np.array = None):\n",
    "        logger = self.logger\n",
    "        loggerinfo(logger, \"Start Example Transformer transform.......\")\n",
    "        try:\n",
    "            X_pandas = X.to_pandas()\n",
    "            X_p_log = np.log10(X_pandas)\n",
    "        except Exception as e:\n",
    "            '''Print error message into DAI log file'''\n",
    "            loggerinfo(logger, 'Error during Example transformer transform. Exception raised: %s' % str(e))\n",
    "            raise\n",
    "        return X_p_log\n",
    "```"
   ]
  },
  {
   "cell_type": "code",
   "execution_count": 58,
   "metadata": {},
   "outputs": [
    {
     "name": "stdout",
     "output_type": "stream",
     "text": [
      "Help on method create in module driverlessai._recipes:\n",
      "\n",
      "create(recipe: str) -> None method of driverlessai._recipes.Recipes instance\n",
      "    Create a recipe on the Driverless AI server.\n",
      "    \n",
      "    Args:\n",
      "        recipe: path to recipe or url for recipe\n",
      "    \n",
      "    Examples::\n",
      "    \n",
      "        dai.recipes.create(\n",
      "            recipe='https://github.com/h2oai/driverlessai-recipes/blob/master/scorers/regression/explained_variance.py'\n",
      "        )\n",
      "\n"
     ]
    }
   ],
   "source": [
    "help(dai.recipes.create)"
   ]
  },
  {
   "cell_type": "code",
   "execution_count": 68,
   "metadata": {},
   "outputs": [
    {
     "name": "stdout",
     "output_type": "stream",
     "text": [
      "from h2oaicore.systemutils import print_debug\n",
      "import logging\n",
      "from h2oaicore.systemutils import config\n",
      "from h2oaicore.systemutils import make_experiment_logger, loggerinfo, loggerwarning\n",
      "\n",
      "\n",
      "from h2oaicore.transformer_utils import CustomTransformer\n",
      "import datatable as dt\n",
      "import numpy as np\n",
      "import pandas as pd\n",
      "import logging\n",
      "\n",
      "from h2oaicore.systemutils import config\n",
      "from h2oaicore.systemutils import make_experiment_logger, loggerinfo, loggerwarning\n",
      "\n",
      "class ExampleLogTransformer(CustomTransformer):\n",
      "    _regression = True\n",
      "    _binary = True\n",
      "    _multiclass = True\n",
      "    _numeric_output = True\n",
      "    _is_reproducible = True\n",
      "    _excluded_model_classes = ['tensorflow']\n",
      "    _modules_needed_by_name = [\"lifelines==0.27.7\"] # Not really needed, added as demo\n",
      "\n",
      "    @staticmethod\n",
      "    def do_acceptance_test():\n",
      "        return True\n",
      "\n",
      "    @property\n",
      "    def logger(self):\n",
      "        from h2oaicore import application_context\n",
      "        from h2oaicore.systemutils import exp_dir\n",
      "        # Don't assign to self, not picklable\n",
      "        return make_experiment_logger(experiment_id=application_context.context.experiment_id, tmp_dir=None,\n",
      "                                      experiment_tmp_dir=exp_dir())\n",
      "\n",
      "    @staticmethod\n",
      "    def get_default_properties():\n",
      "        return dict(col_type = \"numeric\", min_cols = 1, max_cols = 1, relative_importance = 1)\n",
      "\n",
      "    def fit_transform(self, X: dt.Frame, y: np.array = None):\n",
      "        logger = self.logger\n",
      "        loggerinfo(logger, \"Start Example Transformer fit_transform .....\")\n",
      "        try:\n",
      "            X_pandas = X.to_pandas()\n",
      "            X_p_log = np.log10(X_pandas)\n",
      "        except Exception as e:\n",
      "            '''Print error message into DAI log file'''\n",
      "            loggerinfo(logger, 'Error during Example transformer fit_transform. Exception raised: %s' % str(e))\n",
      "            raise\n",
      "        return X_p_log\n",
      "\n",
      "\n",
      "    def transform(self, X: dt.Frame, y: np.array = None):\n",
      "        logger = self.logger\n",
      "        loggerinfo(logger, \"Start Example Transformer transform.......\")\n",
      "        try:\n",
      "            X_pandas = X.to_pandas()\n",
      "            X_p_log = np.log10(X_pandas)\n",
      "        except Exception as e:\n",
      "            '''Print error message into DAI log file'''\n",
      "            loggerinfo(logger, 'Error during Example transformer transform. Exception raised: %s' % str(e))\n",
      "            raise\n",
      "        return X_p_log"
     ]
    }
   ],
   "source": [
    "!cat ./recipes/example_transformer_recipe.py"
   ]
  },
  {
   "cell_type": "markdown",
   "metadata": {},
   "source": [
    "**Create/Add recipe to DAI**"
   ]
  },
  {
   "cell_type": "code",
   "execution_count": 60,
   "metadata": {},
   "outputs": [
    {
     "name": "stdout",
     "output_type": "stream",
     "text": [
      "Complete 100.00%\n"
     ]
    }
   ],
   "source": [
    "dai.recipes.create(\"./recipes/example_transformer_recipe.py\")"
   ]
  },
  {
   "cell_type": "code",
   "execution_count": 61,
   "metadata": {},
   "outputs": [
    {
     "name": "stdout",
     "output_type": "stream",
     "text": [
      "Found custom transformer: ExampleLogTransformer|example_transformer_recipe_750a3ae1_content.py\n"
     ]
    }
   ],
   "source": [
    "for item  in dai.recipes.transformers.list().__dict__[\"_data\"]:\n",
    "    if \"ExampleLogTransformer\" in item.__dict__[\"_name\"]:\n",
    "        custom_transformer_name = item.__dict__[\"_name\"]\n",
    "        print(\"Found custom transformer: \"+custom_transformer_name)"
   ]
  },
  {
   "cell_type": "markdown",
   "metadata": {},
   "source": [
    "### Train experiment with the custom transformer"
   ]
  },
  {
   "cell_type": "code",
   "execution_count": 62,
   "metadata": {},
   "outputs": [
    {
     "name": "stdout",
     "output_type": "stream",
     "text": [
      "ACCURACY [5/10]:\n",
      "- Training data size: *4,594 rows, 20 cols*\n",
      "- Feature evolution: *[Constant, GLM, LightGBM, XGBoostGBM]*, *3-fold CV, 3 reps*\n",
      "- Final pipeline: *Blend of up to 4 [Constant, GLM, LightGBM, XGBoostGBM] models, each averaged across 3-fold CV splits, 3 reps*\n",
      "\n",
      "TIME [3/10]:\n",
      "- Feature evolution: *4 individuals*, up to *30 iterations*\n",
      "- Early stopping: After *5* iterations of no improvement\n",
      "\n",
      "INTERPRETABILITY [7/10]:\n",
      "- Feature pre-pruning strategy: Permutation Importance FS\n",
      "- Monotonicity constraints: enabled\n",
      "- Feature engineering search space: [CVCatNumEncode, ExampleLog, Frequent, OneHotEncoding, Original]\n",
      "\n",
      "[Constant, GLM, LightGBM, XGBoostGBM] models to train:\n",
      "- Model and feature tuning: *144*\n",
      "- Feature evolution: *576*\n",
      "- Final pipeline: *36*\n",
      "- MOJO DISABLED\n",
      "\n",
      "Estimated runtime: *10 minutes*\n",
      "\n",
      "Estimated max CPU memory usage: *1.0GB*\n",
      "Finish/Abort (if not done) in: *1 hour*/*7 days*\n"
     ]
    }
   ],
   "source": [
    "settings_with_custom_transformer = {\n",
    "'task': 'classification',\n",
    " 'target_column': 'Churn',\n",
    " 'accuracy': 5,\n",
    " 'time': 3,\n",
    " 'interpretability': 7,\n",
    " 'scorer': 'LOGLOSS',\n",
    " 'max_runtime_minutes': 60,\n",
    " 'make_python_scoring_pipeline': 'off',\n",
    " 'make_mojo_scoring_pipeline': 'off',\n",
    " 'make_triton_scoring_pipeline': 'off',\n",
    " 'benchmark_mojo_latency': 'off',\n",
    " 'transformers': [custom_transformer_name, \"FrequentTransformer\",'OneHotEncodingTransformer',\n",
    "                  'OriginalTransformer','CVCatNumEncodeTransformer']\n",
    "}\n",
    "datasets = {\"train_dataset\": dai.datasets.get(\"f7a51052-da2c-11ed-bbe0-0242ac110002\"),\n",
    "            \"test_dataset\": dai.datasets.get(\"f7a57df8-da2c-11ed-bbe0-0242ac110002\")}\n",
    "\n",
    "dai.experiments.preview(**datasets, **settings_with_custom_transformer)"
   ]
  },
  {
   "cell_type": "markdown",
   "metadata": {},
   "source": [
    "Start experiment with custom transformer"
   ]
  },
  {
   "cell_type": "code",
   "execution_count": 63,
   "metadata": {},
   "outputs": [
    {
     "name": "stdout",
     "output_type": "stream",
     "text": [
      "Experiment launched at: https://34-209-212-180.aquarium-instance.h2o.ai/#/experiment?key=13070468-30a9-11ee-b104-0242ac110002\n"
     ]
    }
   ],
   "source": [
    "ex_with_custom_transformer = dai.experiments.create_async(**datasets, **settings_with_custom_transformer)"
   ]
  },
  {
   "cell_type": "code",
   "execution_count": 64,
   "metadata": {},
   "outputs": [
    {
     "name": "stdout",
     "output_type": "stream",
     "text": [
      "Name: miperuwu\n",
      "Datasets: {'train_dataset': <class 'Dataset'> f7a51052-da2c-11ed-bbe0-0242ac110002 CustomerChurn.train, 'validation_dataset': None, 'test_dataset': <class 'Dataset'> f7a57df8-da2c-11ed-bbe0-0242ac110002 CustomerChurn.test}\n",
      "Train Dataset Head:\n"
     ]
    },
    {
     "data": {
      "text/html": [
       "<table>\n",
       "<thead>\n",
       "<tr><th>customerID  </th><th>gender  </th><th>SeniorCitizen  </th><th>Partner  </th><th>Dependents  </th><th style=\"text-align: right;\">  tenure</th><th>PhoneService  </th><th>MultipleLines   </th><th>InternetService  </th><th>OnlineSecurity  </th><th>OnlineBackup  </th><th>DeviceProtection  </th><th>TechSupport  </th><th>StreamingTV  </th><th>StreamingMovies  </th><th>Contract      </th><th>PaperlessBilling  </th><th>PaymentMethod   </th><th style=\"text-align: right;\">  MonthlyCharges</th><th style=\"text-align: right;\">  TotalCharges</th><th>Churn  </th></tr>\n",
       "</thead>\n",
       "<tbody>\n",
       "<tr><td>7590-VHVEG  </td><td>Female  </td><td>False          </td><td>Yes      </td><td>No          </td><td style=\"text-align: right;\">       1</td><td>No            </td><td>No phone service</td><td>DSL              </td><td>No              </td><td>Yes           </td><td>No                </td><td>No           </td><td>No           </td><td>No               </td><td>Month-to-month</td><td>Yes               </td><td>Electronic check</td><td style=\"text-align: right;\">           29.85</td><td style=\"text-align: right;\">         29.85</td><td>No     </td></tr>\n",
       "</tbody>\n",
       "</table>"
      ],
      "text/plain": [
       "<driverlessai._utils.Table at 0x7ff4c873c5e0>"
      ]
     },
     "metadata": {},
     "output_type": "display_data"
    },
    {
     "name": "stdout",
     "output_type": "stream",
     "text": [
      "Target: Churn\n",
      "Scorer: LOGLOSS\n",
      "Task: classification\n",
      "Status: Running 0.00% - Update configuration with overrides.\n",
      "Creation Timestamp: 1690921322.2503042\n",
      "Run Duration: 0.49209022521972656\n",
      "Web Page: https://34-209-212-180.aquarium-instance.h2o.ai/#/experiment?key=13070468-30a9-11ee-b104-0242ac110002\n"
     ]
    }
   ],
   "source": [
    "print(\"Name:\", ex_with_custom_transformer.name)\n",
    "print(\"Datasets:\", ex_with_custom_transformer.datasets)\n",
    "print(\"Train Dataset Head:\")\n",
    "display(ex_with_custom_transformer.datasets['train_dataset'].head(1))\n",
    "print(\"Target:\", ex_with_custom_transformer.settings['target_column'])\n",
    "print(\"Scorer:\", ex_with_custom_transformer.metrics()['scorer'])\n",
    "print(\"Task:\", ex_with_custom_transformer.settings['task'])\n",
    "print(\"Status:\", ex_with_custom_transformer.status(verbose=2))\n",
    "print(\"Creation Timestamp:\", ex_with_custom_transformer.creation_timestamp)\n",
    "print(\"Run Duration:\", ex_with_custom_transformer.run_duration)\n",
    "print(\"Web Page:\", ex_with_custom_transformer.gui())"
   ]
  },
  {
   "cell_type": "code",
   "execution_count": 65,
   "metadata": {},
   "outputs": [
    {
     "data": {
      "text/html": [
       "<table>\n",
       "<thead>\n",
       "<tr></tr>\n",
       "</thead>\n",
       "<tbody>\n",
       "</tbody>\n",
       "</table>"
      ],
      "text/plain": [
       "<driverlessai._utils.Table at 0x7ff4c873c310>"
      ]
     },
     "execution_count": 65,
     "metadata": {},
     "output_type": "execute_result"
    }
   ],
   "source": [
    "ex_with_custom_transformer.variable_importance()"
   ]
  }
 ],
 "metadata": {
  "kernelspec": {
   "display_name": "dai_verizon_training",
   "language": "python",
   "name": "dai_verizon_training"
  },
  "language_info": {
   "codemirror_mode": {
    "name": "ipython",
    "version": 3
   },
   "file_extension": ".py",
   "mimetype": "text/x-python",
   "name": "python",
   "nbconvert_exporter": "python",
   "pygments_lexer": "ipython3",
   "version": "3.8.10"
  }
 },
 "nbformat": 4,
 "nbformat_minor": 2
}
